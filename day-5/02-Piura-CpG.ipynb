{
 "cells": [
  {
   "cell_type": "markdown",
   "metadata": {},
   "source": [
    "# Determing CpG ratio per Gene Function"
   ]
  },
  {
   "cell_type": "markdown",
   "metadata": {},
   "source": [
    "# Step 1: Obtain GO slim information (gene function)"
   ]
  },
  {
   "cell_type": "code",
   "execution_count": 17,
   "metadata": {
    "collapsed": false
   },
   "outputs": [
    {
     "name": "stdout",
     "output_type": "stream",
     "text": [
      "Column1,GOSlim_bin\r",
      "\r\n",
      "PiuraChilensis_v1_contig_7798,protein metabolism\r",
      "\r\n",
      "PiuraChilensis_v1_contig_3751,other metabolic processes\r",
      "\r\n",
      "PiuraChilensis_v1_contig_11851,other metabolic processes\r",
      "\r\n",
      "PiuraChilensis_v1_contig_12118,protein metabolism\r",
      "\r\n",
      "PiuraChilensis_v1_contig_12118,transport\r",
      "\r\n",
      "PiuraChilensis_v1_contig_12118,cell organization and biogenesis\r",
      "\r\n",
      "PiuraChilensis_v1_contig_12118,signal transduction\r",
      "\r\n",
      "PiuraChilensis_v1_contig_12118,developmental processes\r",
      "\r\n",
      "PiuraChilensis_v1_contig_3855,developmental processes\r",
      "\r\n"
     ]
    }
   ],
   "source": [
    "!head ../data/Piura_v1_GOslim.csv"
   ]
  },
  {
   "cell_type": "markdown",
   "metadata": {},
   "source": [
    "# Step 2: Determine CpG ratio for each gene "
   ]
  },
  {
   "cell_type": "markdown",
   "metadata": {},
   "source": [
    "# Step 2a: Convert fasta to tab-delimited"
   ]
  },
  {
   "cell_type": "code",
   "execution_count": 18,
   "metadata": {
    "collapsed": false
   },
   "outputs": [
    {
     "name": "stdout",
     "output_type": "stream",
     "text": [
      "\r\n",
      "Converted 15022 FASTA records in 384556 lines to tabular format\r\n",
      "Total sequence length: 21729367\r\n",
      "\r\n"
     ]
    }
   ],
   "source": [
    "!perl -e '$count=0; $len=0; while(<>) {s/\\r?\\n//; s/\\t/ /g; if (s/^>//) { if ($. != 1) {print \"\\n\"} s/ |$/\\t/; $count++; $_ .= \"\\t\";} else {s/ //g; $len += length($_)} print $_;} print \"\\n\"; warn \"\\nConverted $count FASTA records in $. lines to tabular format\\nTotal sequence length: $len\\n\\n\";' \\\n",
    "../data/Piura_v1_contigs.fa > ../data/Piura_v1_contigs.tab"
   ]
  },
  {
   "cell_type": "code",
   "execution_count": 19,
   "metadata": {
    "collapsed": false
   },
   "outputs": [
    {
     "name": "stdout",
     "output_type": "stream",
     "text": [
      "PiuraChilensis_v1_contig_1\t\tATTTACAATACGAAGTAAAATAGATAACGTGAAAATAATCTTGGTGCTGGATGATCGATCAAGTTCACCAATATTTTATTGTAAAAAATCATTCTAAACAGCATGAAATCGTGTACAATGTATAAACAAGCAAATATATAACACTAAAGCAAGAGGGCGTAAGTGGGGGGGTGGGTGAGAGTAAAAAATTCAAACATGTCAAATACCCCGGCGTTAGCCTTAAAAGCACCATGGACTTCTGCCTTCAATAAGCATAAAATTAAAACACCTAATACACAATGAATATACAGATAAAACAGATTTATGAATAGTTGGTGTTACATCTTTTACAGCCATAAGCCTTCATTTTGCTTCCAAACGTATAAAATCTGACTTGGAACAATATACAGCCATGAGATATGACACAGCGAGCACTACAATATATATTTATCTTGTACTATACAGCCTGTACAAGAAAATTCTGGAATTGTCTTCACAAGAGACAGAAAAATAGTTGCAATGTGAATGCTAGTCTACTATTTGATCACAATTGGATAGAAAAGTACAGCACATAAATGTTGGTGATACCTTAAAGAAAAGTGCAACAATATCAAAGGAATTAGTACCAGCATGCATTAGAAAAGTAAAAGTCTTGCTTATTACACAAAGCTGACTATATGATGTTCACCGCTTCTGGTGTGCAAAGAATTAAAAACAATGCAATTTCGGTCAGTTTTAACAAGGAATTAACAATTCATAGGAAAAATACAAGCATATGGTCTCAGGCCAATTGCTAGGACATAAAAAAAGCCTGCATATCACGAAAAGCCAAGTGCATGCATCGTATCCTGAAGACACCTTGATATTAACATGTAAGAAATTTAGCTTGCCACATTTCCATATTCCATAATTTCATTTTGAACACCGTGCCAGCAAATTCATCTGATATAAACACACAGGCAACTAATTTGGACACTTTCTAACTAGGTAGTTCAGAAAATACAGCTTTCAACAGGTACACATTTCTATAATAATAATAATAGCAAATGTCAGTGTGGCAGTTTTTGGACAAGTCCCTTTCAGAGGCCAAAATATCTATTTTGTATTAATTAATTATCCATTTTTTGGACTATACGGCTGTATCAAAACCATGGGTAACTGGGACTTGCCTAGCTTTGGGGGTGGAGTC\r\n"
     ]
    }
   ],
   "source": [
    "!head -1 ../data/Piura_v1_contigs.tab"
   ]
  },
  {
   "cell_type": "code",
   "execution_count": 20,
   "metadata": {
    "collapsed": false
   },
   "outputs": [],
   "source": [
    "#temp replace name so c or g will not confound\n",
    "!sed 's/PiuraChilensis_v1_contig/999999/g' <../data/Piura_v1_contigs.tab> ../data/Piura_v1-99_contigs.tab\n"
   ]
  },
  {
   "cell_type": "code",
   "execution_count": 22,
   "metadata": {
    "collapsed": false
   },
   "outputs": [
    {
     "name": "stdout",
     "output_type": "stream",
     "text": [
      "999999_1\t\tATTTACAATACGAAGTAAAATAGATAACGTGAAAATAATCTTGGTGCTGGATGATCGATCAAGTTCACCAATATTTTATTGTAAAAAATCATTCTAAACAGCATGAAATCGTGTACAATGTATAAACAAGCAAATATATAACACTAAAGCAAGAGGGCGTAAGTGGGGGGGTGGGTGAGAGTAAAAAATTCAAACATGTCAAATACCCCGGCGTTAGCCTTAAAAGCACCATGGACTTCTGCCTTCAATAAGCATAAAATTAAAACACCTAATACACAATGAATATACAGATAAAACAGATTTATGAATAGTTGGTGTTACATCTTTTACAGCCATAAGCCTTCATTTTGCTTCCAAACGTATAAAATCTGACTTGGAACAATATACAGCCATGAGATATGACACAGCGAGCACTACAATATATATTTATCTTGTACTATACAGCCTGTACAAGAAAATTCTGGAATTGTCTTCACAAGAGACAGAAAAATAGTTGCAATGTGAATGCTAGTCTACTATTTGATCACAATTGGATAGAAAAGTACAGCACATAAATGTTGGTGATACCTTAAAGAAAAGTGCAACAATATCAAAGGAATTAGTACCAGCATGCATTAGAAAAGTAAAAGTCTTGCTTATTACACAAAGCTGACTATATGATGTTCACCGCTTCTGGTGTGCAAAGAATTAAAAACAATGCAATTTCGGTCAGTTTTAACAAGGAATTAACAATTCATAGGAAAAATACAAGCATATGGTCTCAGGCCAATTGCTAGGACATAAAAAAAGCCTGCATATCACGAAAAGCCAAGTGCATGCATCGTATCCTGAAGACACCTTGATATTAACATGTAAGAAATTTAGCTTGCCACATTTCCATATTCCATAATTTCATTTTGAACACCGTGCCAGCAAATTCATCTGATATAAACACACAGGCAACTAATTTGGACACTTTCTAACTAGGTAGTTCAGAAAATACAGCTTTCAACAGGTACACATTTCTATAATAATAATAATAGCAAATGTCAGTGTGGCAGTTTTTGGACAAGTCCCTTTCAGAGGCCAAAATATCTATTTTGTATTAATTAATTATCCATTTTTTGGACTATACGGCTGTATCAAAACCATGGGTAACTGGGACTTGCCTAGCTTTGGGGGTGGAGTC\r\n"
     ]
    }
   ],
   "source": [
    "!head -1 ../data/Piura_v1-99_contigs.tab"
   ]
  },
  {
   "cell_type": "code",
   "execution_count": 23,
   "metadata": {
    "collapsed": false
   },
   "outputs": [
    {
     "name": "stdout",
     "output_type": "stream",
     "text": [
      "\r\n",
      "Added column with length of column 2 for 15022 lines.\r\n",
      "\r\n"
     ]
    }
   ],
   "source": [
    "#add column with length of sequence\n",
    "!perl -e '$col = 2;' -e 'while (<>) { s/\\r?\\n//; @F = split /\\t/, $_; $len = length($F[$col]); print \"$_\\t$len\\n\" } warn \"\\nAdded column with length of column $col for $. lines.\\n\\n\";' \\\n",
    "../data/Piura_v1-99_contigs.tab > ../data/Piura_v1-99-l_contigs.tab"
   ]
  },
  {
   "cell_type": "code",
   "execution_count": 24,
   "metadata": {
    "collapsed": false
   },
   "outputs": [
    {
     "name": "stdout",
     "output_type": "stream",
     "text": [
      "999999_1\t\tATTTACAATACGAAGTAAAATAGATAACGTGAAAATAATCTTGGTGCTGGATGATCGATCAAGTTCACCAATATTTTATTGTAAAAAATCATTCTAAACAGCATGAAATCGTGTACAATGTATAAACAAGCAAATATATAACACTAAAGCAAGAGGGCGTAAGTGGGGGGGTGGGTGAGAGTAAAAAATTCAAACATGTCAAATACCCCGGCGTTAGCCTTAAAAGCACCATGGACTTCTGCCTTCAATAAGCATAAAATTAAAACACCTAATACACAATGAATATACAGATAAAACAGATTTATGAATAGTTGGTGTTACATCTTTTACAGCCATAAGCCTTCATTTTGCTTCCAAACGTATAAAATCTGACTTGGAACAATATACAGCCATGAGATATGACACAGCGAGCACTACAATATATATTTATCTTGTACTATACAGCCTGTACAAGAAAATTCTGGAATTGTCTTCACAAGAGACAGAAAAATAGTTGCAATGTGAATGCTAGTCTACTATTTGATCACAATTGGATAGAAAAGTACAGCACATAAATGTTGGTGATACCTTAAAGAAAAGTGCAACAATATCAAAGGAATTAGTACCAGCATGCATTAGAAAAGTAAAAGTCTTGCTTATTACACAAAGCTGACTATATGATGTTCACCGCTTCTGGTGTGCAAAGAATTAAAAACAATGCAATTTCGGTCAGTTTTAACAAGGAATTAACAATTCATAGGAAAAATACAAGCATATGGTCTCAGGCCAATTGCTAGGACATAAAAAAAGCCTGCATATCACGAAAAGCCAAGTGCATGCATCGTATCCTGAAGACACCTTGATATTAACATGTAAGAAATTTAGCTTGCCACATTTCCATATTCCATAATTTCATTTTGAACACCGTGCCAGCAAATTCATCTGATATAAACACACAGGCAACTAATTTGGACACTTTCTAACTAGGTAGTTCAGAAAATACAGCTTTCAACAGGTACACATTTCTATAATAATAATAATAGCAAATGTCAGTGTGGCAGTTTTTGGACAAGTCCCTTTCAGAGGCCAAAATATCTATTTTGTATTAATTAATTATCCATTTTTTGGACTATACGGCTGTATCAAAACCATGGGTAACTGGGACTTGCCTAGCTTTGGGGGTGGAGTC\t1168\r\n"
     ]
    }
   ],
   "source": [
    "!head -1 ../data/Piura_v1-99-l_contigs.tab"
   ]
  },
  {
   "cell_type": "code",
   "execution_count": 25,
   "metadata": {
    "collapsed": false
   },
   "outputs": [
    {
     "name": "stdout",
     "output_type": "stream",
     "text": [
      "999999_1\t\tATTTACAATACGAAGTAAAATAGATAACGTGAAAATAATCTTGGTGCTGGATGATCGATCAAGTTCACCAATATTTTATTGTAAAAAATCATTCTAAACAGCATGAAATCGTGTACAATGTATAAACAAGCAAATATATAACACTAAAGCAAGAGGGCGTAAGTGGGGGGGTGGGTGAGAGTAAAAAATTCAAACATGTCAAATACCCCGGCGTTAGCCTTAAAAGCACCATGGACTTCTGCCTTCAATAAGCATAAAATTAAAACACCTAATACACAATGAATATACAGATAAAACAGATTTATGAATAGTTGGTGTTACATCTTTTACAGCCATAAGCCTTCATTTTGCTTCCAAACGTATAAAATCTGACTTGGAACAATATACAGCCATGAGATATGACACAGCGAGCACTACAATATATATTTATCTTGTACTATACAGCCTGTACAAGAAAATTCTGGAATTGTCTTCACAAGAGACAGAAAAATAGTTGCAATGTGAATGCTAGTCTACTATTTGATCACAATTGGATAGAAAAGTACAGCACATAAATGTTGGTGATACCTTAAAGAAAAGTGCAACAATATCAAAGGAATTAGTACCAGCATGCATTAGAAAAGTAAAAGTCTTGCTTATTACACAAAGCTGACTATATGATGTTCACCGCTTCTGGTGTGCAAAGAATTAAAAACAATGCAATTTCGGTCAGTTTTAACAAGGAATTAACAATTCATAGGAAAAATACAAGCATATGGTCTCAGGCCAATTGCTAGGACATAAAAAAAGCCTGCATATCACGAAAAGCCAAGTGCATGCATCGTATCCTGAAGACACCTTGATATTAACATGTAAGAAATTTAGCTTGCCACATTTCCATATTCCATAATTTCATTTTGAACACCGTGCCAGCAAATTCATCTGATATAAACACACAGGCAACTAATTTGGACACTTTCTAACTAGGTAGTTCAGAAAATACAGCTTTCAACAGGTACACATTTCTATAATAATAATAATAGCAAATGTCAGTGTGGCAGTTTTTGGACAAGTCCCTTTCAGAGGCCAAAATATCTATTTTGTATTAATTAATTATCCATTTTTTGGACTATACGGCTGTATCAAAACCATGGGTAACTGGGACTTGCCTAGCTTTGGGGGTGGAGTC\t1168\t15\t203\t202\r\n"
     ]
    }
   ],
   "source": [
    "!awk -F\\CG '{print NF-1}' ../data/Piura_v1-99-l_contigs.tab > ../data/Piura_v1-99-l_contigs__CG.tab\n",
    "!awk -F\\C '{print NF-1}' ../data/Piura_v1-99-l_contigs.tab > ../data/Piura_v1-99-l_contigs__C.tab\n",
    "!awk -F\\G '{print NF-1}' ../data/Piura_v1-99-l_contigs.tab > ../data/Piura_v1-99-l_contigs__G.tab\n",
    "!paste ../data/Piura_v1-99-l_contigs.tab \\\n",
    "../data/Piura_v1-99-l_contigs__CG.tab \\\n",
    "../data/Piura_v1-99-l_contigs__C.tab \\\n",
    "../data/Piura_v1-99-l_contigs__G.tab \\\n",
    "> ../data/Piura_v1-99-l_contigs__C-G.tab\n",
    "!head -1 ../data/Piura_v1-99-l_contigs__C-G.tab\n"
   ]
  },
  {
   "cell_type": "markdown",
   "metadata": {},
   "source": [
    "![](http://eagle.fish.washington.edu/cnidarian/skitch/BMC_Genomics___Full_text___DNA_methylation_patterns_provide_insight_into_epigenetic_regulation_in_the_Pacific_oyster__Crassostrea_gigas__1A0683A5.png)"
   ]
  },
  {
   "cell_type": "code",
   "execution_count": 10,
   "metadata": {
    "collapsed": false
   },
   "outputs": [
    {
     "name": "stdout",
     "output_type": "stream",
     "text": [
      "PiuraChilensis_v1_contig_1 \t 0.427621\r\n",
      "PiuraChilensis_v1_contig_2 \t 0.600881\r\n",
      "PiuraChilensis_v1_contig_3 \t 0.750945\r\n",
      "PiuraChilensis_v1_contig_4 \t 1.22757\r\n",
      "PiuraChilensis_v1_contig_5 \t 0.848172\r\n",
      "PiuraChilensis_v1_contig_6 \t 0.86292\r\n",
      "PiuraChilensis_v1_contig_7 \t 0.718647\r\n",
      "PiuraChilensis_v1_contig_8 \t 1.03897\r\n",
      "PiuraChilensis_v1_contig_9 \t 0.97759\r\n",
      "PiuraChilensis_v1_contig_10 \t 0.817866\r\n"
     ]
    }
   ],
   "source": [
    "!awk '{print $1, \"\\t\", (($4)/($5*$6))*(($3**2)/($3-1))}' \\\n",
    "../data/Piura_v1-99-l_contigs__C-G.tab \\\n",
    "| sed 's/999999/PiuraChilensis_v1_contig/g' > ../data/Piura_v1_CpG.tab\n",
    "!head ../data/Piura_v1_CpG.tab"
   ]
  },
  {
   "cell_type": "code",
   "execution_count": 30,
   "metadata": {
    "collapsed": false
   },
   "outputs": [
    {
     "name": "stdout",
     "output_type": "stream",
     "text": [
      "Cgigas-HS-count.txt\r\n",
      "PiuraC_Coq_Trinity.fasta\r\n",
      "PiuraC_Val_Trinity.fasta\r\n",
      "PiuraC_Val_Trinity_2ndhalf.fasta\r\n",
      "PiuraC_Val_Trinity_uniprot_sprot.tab\r\n",
      "PiuraC_Val_Trinity_uniprot_sprot_2ndhalf.tab\r\n",
      "Piura_counts.txt\r\n",
      "Piura_v1-99-l_contigs.tab\r\n",
      "Piura_v1-99-l_contigs__C-G.tab\r\n",
      "Piura_v1-99-l_contigs__C.tab\r\n",
      "Piura_v1-99-l_contigs__CG.tab\r\n",
      "Piura_v1-99-l_contigs__G.tab\r\n",
      "Piura_v1-99_contigs.tab\r\n",
      "Piura_v1_CpG.tab\r\n",
      "Piura_v1_GOslim.csv\r\n",
      "Piura_v1_contigs.fa\r\n",
      "Piura_v1_contigs.tab\r\n",
      "Piura_v1_uniprot_sprot.tab\r\n",
      "Piura_v1_uniprot_sprot_sql.tab\r\n",
      "\u001b[34mwd\u001b[m\u001b[m\r\n"
     ]
    }
   ],
   "source": [
    "!ls ../data"
   ]
  },
  {
   "cell_type": "code",
   "execution_count": 11,
   "metadata": {
    "collapsed": false
   },
   "outputs": [],
   "source": [
    "!rm ../data/Piura_v1-99*"
   ]
  },
  {
   "cell_type": "markdown",
   "metadata": {},
   "source": [
    "# Join with GO Slim"
   ]
  },
  {
   "cell_type": "code",
   "execution_count": 12,
   "metadata": {
    "collapsed": false
   },
   "outputs": [
    {
     "name": "stdout",
     "output_type": "stream",
     "text": [
      "Column1,GOSlim_bin\r",
      "\r\n",
      "PiuraChilensis_v1_contig_7798,protein metabolism\r",
      "\r\n",
      "PiuraChilensis_v1_contig_3751,other metabolic processes\r",
      "\r\n",
      "PiuraChilensis_v1_contig_11851,other metabolic processes\r",
      "\r\n",
      "PiuraChilensis_v1_contig_12118,protein metabolism\r",
      "\r\n",
      "PiuraChilensis_v1_contig_12118,transport\r",
      "\r\n",
      "PiuraChilensis_v1_contig_12118,cell organization and biogenesis\r",
      "\r\n",
      "PiuraChilensis_v1_contig_12118,signal transduction\r",
      "\r\n",
      "PiuraChilensis_v1_contig_12118,developmental processes\r",
      "\r\n",
      "PiuraChilensis_v1_contig_3855,developmental processes\r",
      "\r\n"
     ]
    }
   ],
   "source": [
    "!head ../data/Piura_v1_GOslim.csv"
   ]
  },
  {
   "cell_type": "code",
   "execution_count": 13,
   "metadata": {
    "collapsed": false
   },
   "outputs": [],
   "source": [
    "!tr ',' \"\\t\" <../data/Piura_v1_GOslim.csv> ../data/Piura_v1_GOslim.tab"
   ]
  },
  {
   "cell_type": "code",
   "execution_count": 14,
   "metadata": {
    "collapsed": false
   },
   "outputs": [
    {
     "name": "stdout",
     "output_type": "stream",
     "text": [
      "PiuraChilensis_v1_contig_100 \t death\r",
      "\r\n",
      "PiuraChilensis_v1_contig_100 \t other biological processes\r",
      "\r\n",
      "PiuraChilensis_v1_contig_100 \t signal transduction\r",
      "\r\n",
      "PiuraChilensis_v1_contig_100 \t stress response\r",
      "\r\n",
      "PiuraChilensis_v1_contig_100 \t transport\r",
      "\r\n",
      "PiuraChilensis_v1_contig_1000 \t other biological processes\r",
      "\r\n",
      "PiuraChilensis_v1_contig_1000 \t other metabolic processes\r",
      "\r\n",
      "PiuraChilensis_v1_contig_10003 \t RNA metabolism\r",
      "\r\n",
      "PiuraChilensis_v1_contig_10003 \t other biological processes\r",
      "\r\n",
      "PiuraChilensis_v1_contig_10003 \t protein metabolism\r",
      "\r\n"
     ]
    }
   ],
   "source": [
    "!sort ../data/Piura_v1_GOslim.tab | tail -n +2 > ../data/Piura_v1_GOslim.sorted\n",
    "!awk -F $'\\t' '{print $1, \"\\t\", $2}' ../data/Piura_v1_GOslim.sorted > ../data/Piura_v1_GOslim.sortedtab\n",
    "!head ../data/Piura_v1_GOslim.sortedtab"
   ]
  },
  {
   "cell_type": "code",
   "execution_count": 15,
   "metadata": {
    "collapsed": false
   },
   "outputs": [
    {
     "name": "stdout",
     "output_type": "stream",
     "text": [
      "PiuraChilensis_v1_contig_1  \t  0.427621\r\n",
      "PiuraChilensis_v1_contig_10  \t  0.817866\r\n",
      "PiuraChilensis_v1_contig_100  \t  0.914473\r\n",
      "PiuraChilensis_v1_contig_1000  \t  0.792597\r\n",
      "PiuraChilensis_v1_contig_10000  \t  0.947282\r\n",
      "PiuraChilensis_v1_contig_10001  \t  0.691634\r\n",
      "PiuraChilensis_v1_contig_10002  \t  0.936689\r\n",
      "PiuraChilensis_v1_contig_10003  \t  0.371111\r\n",
      "PiuraChilensis_v1_contig_10004  \t  0.89432\r\n",
      "PiuraChilensis_v1_contig_10005  \t  0.873687\r\n"
     ]
    }
   ],
   "source": [
    "!sort ../data/Piura_v1_CpG.tab > ../data/Piura_v1_CpG.sorted\n",
    "!awk -F $'\\t' '{print $1, \"\\t\", $2}' ../data/Piura_v1_CpG.sorted > ../data/Piura_v1_CpG.sortedtab\n",
    "!head ../data/Piura_v1_CpG.sortedtab"
   ]
  },
  {
   "cell_type": "markdown",
   "metadata": {},
   "source": [
    "```\n",
    "SELECT * FROM [sr320@washington.edu].[Piura_v1_CpG.sorted]cpg\n",
    "  left join\n",
    "[sr320@washington.edu].[Piura_v1_GOslim.sorted​]go\n",
    "  on\n",
    "  cpg.Column1=go.Column1\n",
    "```    \n"
   ]
  },
  {
   "cell_type": "markdown",
   "metadata": {},
   "source": [
    "<img src=\"http://eagle.fish.washington.edu/cnidarian/skitch/Run_Query_1BDBB52D.png\" alt=\"Run_Query_1BDBB52D.png\"/>"
   ]
  },
  {
   "cell_type": "code",
   "execution_count": 27,
   "metadata": {
    "collapsed": false
   },
   "outputs": [
    {
     "name": "stdout",
     "output_type": "stream",
     "text": [
      "Column1,Column2,Column1,Column2\r\n",
      "PiuraChilensis_v1_contig_1,0.427621,,\r\n",
      "PiuraChilensis_v1_contig_10,0.817866,,\r\n",
      "PiuraChilensis_v1_contig_100,0.914473,PiuraChilensis_v1_contig_100,death\r\n",
      "PiuraChilensis_v1_contig_100,0.914473,PiuraChilensis_v1_contig_100,other biological processes\r\n",
      "PiuraChilensis_v1_contig_100,0.914473,PiuraChilensis_v1_contig_100,signal transduction\r\n",
      "PiuraChilensis_v1_contig_100,0.914473,PiuraChilensis_v1_contig_100,stress response\r\n",
      "PiuraChilensis_v1_contig_100,0.914473,PiuraChilensis_v1_contig_100,transport\r\n",
      "PiuraChilensis_v1_contig_1000,0.792597,PiuraChilensis_v1_contig_1000,other biological processes\r\n",
      "PiuraChilensis_v1_contig_1000,0.792597,PiuraChilensis_v1_contig_1000,other metabolic processes\r\n"
     ]
    }
   ],
   "source": [
    "!head ../data/Piura_v1_CpG-GOslim.csv"
   ]
  },
  {
   "cell_type": "code",
   "execution_count": 28,
   "metadata": {
    "collapsed": false
   },
   "outputs": [],
   "source": [
    "!tr ',' \"\\t\" <../data/Piura_v1_CpG-GOslim.csv> ../data/Piura_v1_CpG-GOslim.tab"
   ]
  },
  {
   "cell_type": "code",
   "execution_count": 29,
   "metadata": {
    "collapsed": false
   },
   "outputs": [
    {
     "name": "stdout",
     "output_type": "stream",
     "text": [
      "Column1\tColumn2\tColumn1\tColumn2\r\n",
      "PiuraChilensis_v1_contig_1\t0.427621\t\t\r\n",
      "PiuraChilensis_v1_contig_10\t0.817866\t\t\r\n",
      "PiuraChilensis_v1_contig_100\t0.914473\tPiuraChilensis_v1_contig_100\tdeath\r\n",
      "PiuraChilensis_v1_contig_100\t0.914473\tPiuraChilensis_v1_contig_100\tother biological processes\r\n",
      "PiuraChilensis_v1_contig_100\t0.914473\tPiuraChilensis_v1_contig_100\tsignal transduction\r\n",
      "PiuraChilensis_v1_contig_100\t0.914473\tPiuraChilensis_v1_contig_100\tstress response\r\n",
      "PiuraChilensis_v1_contig_100\t0.914473\tPiuraChilensis_v1_contig_100\ttransport\r\n",
      "PiuraChilensis_v1_contig_1000\t0.792597\tPiuraChilensis_v1_contig_1000\tother biological processes\r\n",
      "PiuraChilensis_v1_contig_1000\t0.792597\tPiuraChilensis_v1_contig_1000\tother metabolic processes\r\n"
     ]
    }
   ],
   "source": [
    "!head ../data/Piura_v1_CpG-GOslim.tab"
   ]
  },
  {
   "cell_type": "code",
   "execution_count": 30,
   "metadata": {
    "collapsed": false
   },
   "outputs": [
    {
     "name": "stdout",
     "output_type": "stream",
     "text": [
      "PiuraChilensis_v1_contig_1 \t 0.427621  \t \r\n",
      "PiuraChilensis_v1_contig_10 \t 0.817866  \t \r\n",
      "PiuraChilensis_v1_contig_100 \t 0.914473  \t death\r\n",
      "PiuraChilensis_v1_contig_100 \t 0.914473  \t other biological processes\r\n",
      "PiuraChilensis_v1_contig_100 \t 0.914473  \t signal transduction\r\n",
      "PiuraChilensis_v1_contig_100 \t 0.914473  \t stress response\r\n",
      "PiuraChilensis_v1_contig_100 \t 0.914473  \t transport\r\n",
      "PiuraChilensis_v1_contig_1000 \t 0.792597  \t other biological processes\r\n",
      "PiuraChilensis_v1_contig_1000 \t 0.792597  \t other metabolic processes\r\n",
      "PiuraChilensis_v1_contig_10000 \t 0.947282  \t \r\n"
     ]
    }
   ],
   "source": [
    "!awk -F $'\\t' '{print $1, \"\\t\", $2,\" \\t\", $4}' ../data/Piura_v1_CpG-GOslim.tab | tail -n +2 > ../data/Piura_v1_CpG-slim.tab\n",
    "!head ../data/Piura_v1_CpG-slim.tab\n"
   ]
  },
  {
   "cell_type": "code",
   "execution_count": 31,
   "metadata": {
    "collapsed": false
   },
   "outputs": [],
   "source": [
    "import pandas as pd"
   ]
  },
  {
   "cell_type": "code",
   "execution_count": 32,
   "metadata": {
    "collapsed": false
   },
   "outputs": [],
   "source": [
    "Piura = pd.read_table('../data/Piura_v1_CpG-slim.tab', header=None)\n"
   ]
  },
  {
   "cell_type": "code",
   "execution_count": 33,
   "metadata": {
    "collapsed": false
   },
   "outputs": [
    {
     "data": {
      "text/html": [
       "<div>\n",
       "<table border=\"1\" class=\"dataframe\">\n",
       "  <thead>\n",
       "    <tr style=\"text-align: right;\">\n",
       "      <th></th>\n",
       "      <th>0</th>\n",
       "      <th>1</th>\n",
       "      <th>2</th>\n",
       "    </tr>\n",
       "  </thead>\n",
       "  <tbody>\n",
       "    <tr>\n",
       "      <th>0</th>\n",
       "      <td>PiuraChilensis_v1_contig_1</td>\n",
       "      <td>0.427621</td>\n",
       "      <td></td>\n",
       "    </tr>\n",
       "    <tr>\n",
       "      <th>1</th>\n",
       "      <td>PiuraChilensis_v1_contig_10</td>\n",
       "      <td>0.817866</td>\n",
       "      <td></td>\n",
       "    </tr>\n",
       "    <tr>\n",
       "      <th>2</th>\n",
       "      <td>PiuraChilensis_v1_contig_100</td>\n",
       "      <td>0.914473</td>\n",
       "      <td>death</td>\n",
       "    </tr>\n",
       "    <tr>\n",
       "      <th>3</th>\n",
       "      <td>PiuraChilensis_v1_contig_100</td>\n",
       "      <td>0.914473</td>\n",
       "      <td>other biological processes</td>\n",
       "    </tr>\n",
       "    <tr>\n",
       "      <th>4</th>\n",
       "      <td>PiuraChilensis_v1_contig_100</td>\n",
       "      <td>0.914473</td>\n",
       "      <td>signal transduction</td>\n",
       "    </tr>\n",
       "    <tr>\n",
       "      <th>5</th>\n",
       "      <td>PiuraChilensis_v1_contig_100</td>\n",
       "      <td>0.914473</td>\n",
       "      <td>stress response</td>\n",
       "    </tr>\n",
       "    <tr>\n",
       "      <th>6</th>\n",
       "      <td>PiuraChilensis_v1_contig_100</td>\n",
       "      <td>0.914473</td>\n",
       "      <td>transport</td>\n",
       "    </tr>\n",
       "    <tr>\n",
       "      <th>7</th>\n",
       "      <td>PiuraChilensis_v1_contig_1000</td>\n",
       "      <td>0.792597</td>\n",
       "      <td>other biological processes</td>\n",
       "    </tr>\n",
       "    <tr>\n",
       "      <th>8</th>\n",
       "      <td>PiuraChilensis_v1_contig_1000</td>\n",
       "      <td>0.792597</td>\n",
       "      <td>other metabolic processes</td>\n",
       "    </tr>\n",
       "    <tr>\n",
       "      <th>9</th>\n",
       "      <td>PiuraChilensis_v1_contig_10000</td>\n",
       "      <td>0.947282</td>\n",
       "      <td></td>\n",
       "    </tr>\n",
       "    <tr>\n",
       "      <th>10</th>\n",
       "      <td>PiuraChilensis_v1_contig_10001</td>\n",
       "      <td>0.691634</td>\n",
       "      <td></td>\n",
       "    </tr>\n",
       "    <tr>\n",
       "      <th>11</th>\n",
       "      <td>PiuraChilensis_v1_contig_10002</td>\n",
       "      <td>0.936689</td>\n",
       "      <td></td>\n",
       "    </tr>\n",
       "    <tr>\n",
       "      <th>12</th>\n",
       "      <td>PiuraChilensis_v1_contig_10003</td>\n",
       "      <td>0.371111</td>\n",
       "      <td>RNA metabolism</td>\n",
       "    </tr>\n",
       "    <tr>\n",
       "      <th>13</th>\n",
       "      <td>PiuraChilensis_v1_contig_10003</td>\n",
       "      <td>0.371111</td>\n",
       "      <td>other biological processes</td>\n",
       "    </tr>\n",
       "    <tr>\n",
       "      <th>14</th>\n",
       "      <td>PiuraChilensis_v1_contig_10003</td>\n",
       "      <td>0.371111</td>\n",
       "      <td>protein metabolism</td>\n",
       "    </tr>\n",
       "    <tr>\n",
       "      <th>15</th>\n",
       "      <td>PiuraChilensis_v1_contig_10004</td>\n",
       "      <td>0.894320</td>\n",
       "      <td>other metabolic processes</td>\n",
       "    </tr>\n",
       "    <tr>\n",
       "      <th>16</th>\n",
       "      <td>PiuraChilensis_v1_contig_10005</td>\n",
       "      <td>0.873687</td>\n",
       "      <td></td>\n",
       "    </tr>\n",
       "    <tr>\n",
       "      <th>17</th>\n",
       "      <td>PiuraChilensis_v1_contig_10006</td>\n",
       "      <td>0.701088</td>\n",
       "      <td>RNA metabolism</td>\n",
       "    </tr>\n",
       "    <tr>\n",
       "      <th>18</th>\n",
       "      <td>PiuraChilensis_v1_contig_10007</td>\n",
       "      <td>0.799701</td>\n",
       "      <td>cell cycle and proliferation</td>\n",
       "    </tr>\n",
       "    <tr>\n",
       "      <th>19</th>\n",
       "      <td>PiuraChilensis_v1_contig_10007</td>\n",
       "      <td>0.799701</td>\n",
       "      <td>cell organization and biogenesis</td>\n",
       "    </tr>\n",
       "    <tr>\n",
       "      <th>20</th>\n",
       "      <td>PiuraChilensis_v1_contig_10007</td>\n",
       "      <td>0.799701</td>\n",
       "      <td>other biological processes</td>\n",
       "    </tr>\n",
       "    <tr>\n",
       "      <th>21</th>\n",
       "      <td>PiuraChilensis_v1_contig_10007</td>\n",
       "      <td>0.799701</td>\n",
       "      <td>stress response</td>\n",
       "    </tr>\n",
       "    <tr>\n",
       "      <th>22</th>\n",
       "      <td>PiuraChilensis_v1_contig_10008</td>\n",
       "      <td>0.656072</td>\n",
       "      <td>RNA metabolism</td>\n",
       "    </tr>\n",
       "    <tr>\n",
       "      <th>23</th>\n",
       "      <td>PiuraChilensis_v1_contig_10009</td>\n",
       "      <td>0.716323</td>\n",
       "      <td></td>\n",
       "    </tr>\n",
       "    <tr>\n",
       "      <th>24</th>\n",
       "      <td>PiuraChilensis_v1_contig_1001</td>\n",
       "      <td>0.920809</td>\n",
       "      <td></td>\n",
       "    </tr>\n",
       "    <tr>\n",
       "      <th>25</th>\n",
       "      <td>PiuraChilensis_v1_contig_10010</td>\n",
       "      <td>1.001460</td>\n",
       "      <td>developmental processes</td>\n",
       "    </tr>\n",
       "    <tr>\n",
       "      <th>26</th>\n",
       "      <td>PiuraChilensis_v1_contig_10010</td>\n",
       "      <td>1.001460</td>\n",
       "      <td>other metabolic processes</td>\n",
       "    </tr>\n",
       "    <tr>\n",
       "      <th>27</th>\n",
       "      <td>PiuraChilensis_v1_contig_10010</td>\n",
       "      <td>1.001460</td>\n",
       "      <td>transport</td>\n",
       "    </tr>\n",
       "    <tr>\n",
       "      <th>28</th>\n",
       "      <td>PiuraChilensis_v1_contig_10011</td>\n",
       "      <td>0.736964</td>\n",
       "      <td>cell organization and biogenesis</td>\n",
       "    </tr>\n",
       "    <tr>\n",
       "      <th>29</th>\n",
       "      <td>PiuraChilensis_v1_contig_10012</td>\n",
       "      <td>0.784672</td>\n",
       "      <td>cell organization and biogenesis</td>\n",
       "    </tr>\n",
       "    <tr>\n",
       "      <th>...</th>\n",
       "      <td>...</td>\n",
       "      <td>...</td>\n",
       "      <td>...</td>\n",
       "    </tr>\n",
       "    <tr>\n",
       "      <th>27237</th>\n",
       "      <td>PiuraChilensis_v1_contig_9994</td>\n",
       "      <td>0.824022</td>\n",
       "      <td>RNA metabolism</td>\n",
       "    </tr>\n",
       "    <tr>\n",
       "      <th>27238</th>\n",
       "      <td>PiuraChilensis_v1_contig_9994</td>\n",
       "      <td>0.824022</td>\n",
       "      <td>cell organization and biogenesis</td>\n",
       "    </tr>\n",
       "    <tr>\n",
       "      <th>27239</th>\n",
       "      <td>PiuraChilensis_v1_contig_9994</td>\n",
       "      <td>0.824022</td>\n",
       "      <td>death</td>\n",
       "    </tr>\n",
       "    <tr>\n",
       "      <th>27240</th>\n",
       "      <td>PiuraChilensis_v1_contig_9994</td>\n",
       "      <td>0.824022</td>\n",
       "      <td>developmental processes</td>\n",
       "    </tr>\n",
       "    <tr>\n",
       "      <th>27241</th>\n",
       "      <td>PiuraChilensis_v1_contig_9994</td>\n",
       "      <td>0.824022</td>\n",
       "      <td>other biological processes</td>\n",
       "    </tr>\n",
       "    <tr>\n",
       "      <th>27242</th>\n",
       "      <td>PiuraChilensis_v1_contig_9994</td>\n",
       "      <td>0.824022</td>\n",
       "      <td>protein metabolism</td>\n",
       "    </tr>\n",
       "    <tr>\n",
       "      <th>27243</th>\n",
       "      <td>PiuraChilensis_v1_contig_9994</td>\n",
       "      <td>0.824022</td>\n",
       "      <td>transport</td>\n",
       "    </tr>\n",
       "    <tr>\n",
       "      <th>27244</th>\n",
       "      <td>PiuraChilensis_v1_contig_9995</td>\n",
       "      <td>0.716151</td>\n",
       "      <td>cell adhesion</td>\n",
       "    </tr>\n",
       "    <tr>\n",
       "      <th>27245</th>\n",
       "      <td>PiuraChilensis_v1_contig_9995</td>\n",
       "      <td>0.716151</td>\n",
       "      <td>cell cycle and proliferation</td>\n",
       "    </tr>\n",
       "    <tr>\n",
       "      <th>27246</th>\n",
       "      <td>PiuraChilensis_v1_contig_9995</td>\n",
       "      <td>0.716151</td>\n",
       "      <td>cell organization and biogenesis</td>\n",
       "    </tr>\n",
       "    <tr>\n",
       "      <th>27247</th>\n",
       "      <td>PiuraChilensis_v1_contig_9995</td>\n",
       "      <td>0.716151</td>\n",
       "      <td>developmental processes</td>\n",
       "    </tr>\n",
       "    <tr>\n",
       "      <th>27248</th>\n",
       "      <td>PiuraChilensis_v1_contig_9995</td>\n",
       "      <td>0.716151</td>\n",
       "      <td>other biological processes</td>\n",
       "    </tr>\n",
       "    <tr>\n",
       "      <th>27249</th>\n",
       "      <td>PiuraChilensis_v1_contig_9995</td>\n",
       "      <td>0.716151</td>\n",
       "      <td>other metabolic processes</td>\n",
       "    </tr>\n",
       "    <tr>\n",
       "      <th>27250</th>\n",
       "      <td>PiuraChilensis_v1_contig_9995</td>\n",
       "      <td>0.716151</td>\n",
       "      <td>protein metabolism</td>\n",
       "    </tr>\n",
       "    <tr>\n",
       "      <th>27251</th>\n",
       "      <td>PiuraChilensis_v1_contig_9995</td>\n",
       "      <td>0.716151</td>\n",
       "      <td>signal transduction</td>\n",
       "    </tr>\n",
       "    <tr>\n",
       "      <th>27252</th>\n",
       "      <td>PiuraChilensis_v1_contig_9995</td>\n",
       "      <td>0.716151</td>\n",
       "      <td>transport</td>\n",
       "    </tr>\n",
       "    <tr>\n",
       "      <th>27253</th>\n",
       "      <td>PiuraChilensis_v1_contig_9996</td>\n",
       "      <td>0.809252</td>\n",
       "      <td>RNA metabolism</td>\n",
       "    </tr>\n",
       "    <tr>\n",
       "      <th>27254</th>\n",
       "      <td>PiuraChilensis_v1_contig_9996</td>\n",
       "      <td>0.809252</td>\n",
       "      <td>other biological processes</td>\n",
       "    </tr>\n",
       "    <tr>\n",
       "      <th>27255</th>\n",
       "      <td>PiuraChilensis_v1_contig_9997</td>\n",
       "      <td>0.548271</td>\n",
       "      <td>developmental processes</td>\n",
       "    </tr>\n",
       "    <tr>\n",
       "      <th>27256</th>\n",
       "      <td>PiuraChilensis_v1_contig_9997</td>\n",
       "      <td>0.548271</td>\n",
       "      <td>other metabolic processes</td>\n",
       "    </tr>\n",
       "    <tr>\n",
       "      <th>27257</th>\n",
       "      <td>PiuraChilensis_v1_contig_9997</td>\n",
       "      <td>0.548271</td>\n",
       "      <td>signal transduction</td>\n",
       "    </tr>\n",
       "    <tr>\n",
       "      <th>27258</th>\n",
       "      <td>PiuraChilensis_v1_contig_9998</td>\n",
       "      <td>0.715831</td>\n",
       "      <td>RNA metabolism</td>\n",
       "    </tr>\n",
       "    <tr>\n",
       "      <th>27259</th>\n",
       "      <td>PiuraChilensis_v1_contig_9998</td>\n",
       "      <td>0.715831</td>\n",
       "      <td>cell cycle and proliferation</td>\n",
       "    </tr>\n",
       "    <tr>\n",
       "      <th>27260</th>\n",
       "      <td>PiuraChilensis_v1_contig_9998</td>\n",
       "      <td>0.715831</td>\n",
       "      <td>cell organization and biogenesis</td>\n",
       "    </tr>\n",
       "    <tr>\n",
       "      <th>27261</th>\n",
       "      <td>PiuraChilensis_v1_contig_9998</td>\n",
       "      <td>0.715831</td>\n",
       "      <td>other biological processes</td>\n",
       "    </tr>\n",
       "    <tr>\n",
       "      <th>27262</th>\n",
       "      <td>PiuraChilensis_v1_contig_9998</td>\n",
       "      <td>0.715831</td>\n",
       "      <td>other metabolic processes</td>\n",
       "    </tr>\n",
       "    <tr>\n",
       "      <th>27263</th>\n",
       "      <td>PiuraChilensis_v1_contig_9998</td>\n",
       "      <td>0.715831</td>\n",
       "      <td>protein metabolism</td>\n",
       "    </tr>\n",
       "    <tr>\n",
       "      <th>27264</th>\n",
       "      <td>PiuraChilensis_v1_contig_9998</td>\n",
       "      <td>0.715831</td>\n",
       "      <td>signal transduction</td>\n",
       "    </tr>\n",
       "    <tr>\n",
       "      <th>27265</th>\n",
       "      <td>PiuraChilensis_v1_contig_9998</td>\n",
       "      <td>0.715831</td>\n",
       "      <td>stress response</td>\n",
       "    </tr>\n",
       "    <tr>\n",
       "      <th>27266</th>\n",
       "      <td>PiuraChilensis_v1_contig_9999</td>\n",
       "      <td>1.375200</td>\n",
       "      <td></td>\n",
       "    </tr>\n",
       "  </tbody>\n",
       "</table>\n",
       "<p>27267 rows × 3 columns</p>\n",
       "</div>"
      ],
      "text/plain": [
       "                                     0         1  \\\n",
       "0          PiuraChilensis_v1_contig_1   0.427621   \n",
       "1         PiuraChilensis_v1_contig_10   0.817866   \n",
       "2        PiuraChilensis_v1_contig_100   0.914473   \n",
       "3        PiuraChilensis_v1_contig_100   0.914473   \n",
       "4        PiuraChilensis_v1_contig_100   0.914473   \n",
       "5        PiuraChilensis_v1_contig_100   0.914473   \n",
       "6        PiuraChilensis_v1_contig_100   0.914473   \n",
       "7       PiuraChilensis_v1_contig_1000   0.792597   \n",
       "8       PiuraChilensis_v1_contig_1000   0.792597   \n",
       "9      PiuraChilensis_v1_contig_10000   0.947282   \n",
       "10     PiuraChilensis_v1_contig_10001   0.691634   \n",
       "11     PiuraChilensis_v1_contig_10002   0.936689   \n",
       "12     PiuraChilensis_v1_contig_10003   0.371111   \n",
       "13     PiuraChilensis_v1_contig_10003   0.371111   \n",
       "14     PiuraChilensis_v1_contig_10003   0.371111   \n",
       "15     PiuraChilensis_v1_contig_10004   0.894320   \n",
       "16     PiuraChilensis_v1_contig_10005   0.873687   \n",
       "17     PiuraChilensis_v1_contig_10006   0.701088   \n",
       "18     PiuraChilensis_v1_contig_10007   0.799701   \n",
       "19     PiuraChilensis_v1_contig_10007   0.799701   \n",
       "20     PiuraChilensis_v1_contig_10007   0.799701   \n",
       "21     PiuraChilensis_v1_contig_10007   0.799701   \n",
       "22     PiuraChilensis_v1_contig_10008   0.656072   \n",
       "23     PiuraChilensis_v1_contig_10009   0.716323   \n",
       "24      PiuraChilensis_v1_contig_1001   0.920809   \n",
       "25     PiuraChilensis_v1_contig_10010   1.001460   \n",
       "26     PiuraChilensis_v1_contig_10010   1.001460   \n",
       "27     PiuraChilensis_v1_contig_10010   1.001460   \n",
       "28     PiuraChilensis_v1_contig_10011   0.736964   \n",
       "29     PiuraChilensis_v1_contig_10012   0.784672   \n",
       "...                                ...       ...   \n",
       "27237   PiuraChilensis_v1_contig_9994   0.824022   \n",
       "27238   PiuraChilensis_v1_contig_9994   0.824022   \n",
       "27239   PiuraChilensis_v1_contig_9994   0.824022   \n",
       "27240   PiuraChilensis_v1_contig_9994   0.824022   \n",
       "27241   PiuraChilensis_v1_contig_9994   0.824022   \n",
       "27242   PiuraChilensis_v1_contig_9994   0.824022   \n",
       "27243   PiuraChilensis_v1_contig_9994   0.824022   \n",
       "27244   PiuraChilensis_v1_contig_9995   0.716151   \n",
       "27245   PiuraChilensis_v1_contig_9995   0.716151   \n",
       "27246   PiuraChilensis_v1_contig_9995   0.716151   \n",
       "27247   PiuraChilensis_v1_contig_9995   0.716151   \n",
       "27248   PiuraChilensis_v1_contig_9995   0.716151   \n",
       "27249   PiuraChilensis_v1_contig_9995   0.716151   \n",
       "27250   PiuraChilensis_v1_contig_9995   0.716151   \n",
       "27251   PiuraChilensis_v1_contig_9995   0.716151   \n",
       "27252   PiuraChilensis_v1_contig_9995   0.716151   \n",
       "27253   PiuraChilensis_v1_contig_9996   0.809252   \n",
       "27254   PiuraChilensis_v1_contig_9996   0.809252   \n",
       "27255   PiuraChilensis_v1_contig_9997   0.548271   \n",
       "27256   PiuraChilensis_v1_contig_9997   0.548271   \n",
       "27257   PiuraChilensis_v1_contig_9997   0.548271   \n",
       "27258   PiuraChilensis_v1_contig_9998   0.715831   \n",
       "27259   PiuraChilensis_v1_contig_9998   0.715831   \n",
       "27260   PiuraChilensis_v1_contig_9998   0.715831   \n",
       "27261   PiuraChilensis_v1_contig_9998   0.715831   \n",
       "27262   PiuraChilensis_v1_contig_9998   0.715831   \n",
       "27263   PiuraChilensis_v1_contig_9998   0.715831   \n",
       "27264   PiuraChilensis_v1_contig_9998   0.715831   \n",
       "27265   PiuraChilensis_v1_contig_9998   0.715831   \n",
       "27266   PiuraChilensis_v1_contig_9999   1.375200   \n",
       "\n",
       "                                       2  \n",
       "0                                         \n",
       "1                                         \n",
       "2                                  death  \n",
       "3             other biological processes  \n",
       "4                    signal transduction  \n",
       "5                        stress response  \n",
       "6                              transport  \n",
       "7             other biological processes  \n",
       "8              other metabolic processes  \n",
       "9                                         \n",
       "10                                        \n",
       "11                                        \n",
       "12                        RNA metabolism  \n",
       "13            other biological processes  \n",
       "14                    protein metabolism  \n",
       "15             other metabolic processes  \n",
       "16                                        \n",
       "17                        RNA metabolism  \n",
       "18          cell cycle and proliferation  \n",
       "19      cell organization and biogenesis  \n",
       "20            other biological processes  \n",
       "21                       stress response  \n",
       "22                        RNA metabolism  \n",
       "23                                        \n",
       "24                                        \n",
       "25               developmental processes  \n",
       "26             other metabolic processes  \n",
       "27                             transport  \n",
       "28      cell organization and biogenesis  \n",
       "29      cell organization and biogenesis  \n",
       "...                                  ...  \n",
       "27237                     RNA metabolism  \n",
       "27238   cell organization and biogenesis  \n",
       "27239                              death  \n",
       "27240            developmental processes  \n",
       "27241         other biological processes  \n",
       "27242                 protein metabolism  \n",
       "27243                          transport  \n",
       "27244                      cell adhesion  \n",
       "27245       cell cycle and proliferation  \n",
       "27246   cell organization and biogenesis  \n",
       "27247            developmental processes  \n",
       "27248         other biological processes  \n",
       "27249          other metabolic processes  \n",
       "27250                 protein metabolism  \n",
       "27251                signal transduction  \n",
       "27252                          transport  \n",
       "27253                     RNA metabolism  \n",
       "27254         other biological processes  \n",
       "27255            developmental processes  \n",
       "27256          other metabolic processes  \n",
       "27257                signal transduction  \n",
       "27258                     RNA metabolism  \n",
       "27259       cell cycle and proliferation  \n",
       "27260   cell organization and biogenesis  \n",
       "27261         other biological processes  \n",
       "27262          other metabolic processes  \n",
       "27263                 protein metabolism  \n",
       "27264                signal transduction  \n",
       "27265                    stress response  \n",
       "27266                                     \n",
       "\n",
       "[27267 rows x 3 columns]"
      ]
     },
     "execution_count": 33,
     "metadata": {},
     "output_type": "execute_result"
    }
   ],
   "source": [
    "Piura"
   ]
  },
  {
   "cell_type": "code",
   "execution_count": 34,
   "metadata": {
    "collapsed": false
   },
   "outputs": [],
   "source": [
    "%matplotlib inline\n"
   ]
  },
  {
   "cell_type": "code",
   "execution_count": 35,
   "metadata": {
    "collapsed": false
   },
   "outputs": [],
   "source": [
    "import matplotlib.pyplot as plt "
   ]
  },
  {
   "cell_type": "code",
   "execution_count": 45,
   "metadata": {
    "collapsed": false
   },
   "outputs": [
    {
     "data": {
      "text/plain": [
       "[0.7, 0.9, 0, 15]"
      ]
     },
     "execution_count": 45,
     "metadata": {},
     "output_type": "execute_result"
    },
    {
     "data": {
      "image/png": "[encoded data removed]",
      "text/plain": [
       "<matplotlib.figure.Figure at 0x10e3364a8>"
      ]
     },
     "metadata": {},
     "output_type": "display_data"
    }
   ],
   "source": [
    "Piura.groupby(2)[1].mean().plot(kind='barh', color=list('myr'))\n",
    "plt.axis([0.7, 0.9, 0, 15])"
   ]
  },
  {
   "cell_type": "code",
   "execution_count": 49,
   "metadata": {
    "collapsed": false
   },
   "outputs": [
    {
     "ename": "ImportError",
     "evalue": "dlopen(/Applications/Pineapple-Pro.app/Contents/Frameworks/Python.framework/Versions/3.5/lib/python3.5/site-packages/scipy/special/_ufuncs.cpython-35m-darwin.so, 2): Library not loaded: /usr/local/lib/gcc/5/libgfortran.3.dylib\n  Referenced from: /Applications/Pineapple-Pro.app/Contents/Frameworks/Python.framework/Versions/3.5/lib/python3.5/site-packages/scipy/special/_ufuncs.cpython-35m-darwin.so\n  Reason: image not found",
     "output_type": "error",
     "traceback": [
      "\u001b[0;31m---------------------------------------------------------------------------\u001b[0m",
      "\u001b[0;31mImportError\u001b[0m                               Traceback (most recent call last)",
      "\u001b[0;32m<ipython-input-49-04cb89f8e1d4>\u001b[0m in \u001b[0;36m<module>\u001b[0;34m()\u001b[0m\n\u001b[1;32m      1\u001b[0m \u001b[0;31m# pandas density plot\u001b[0m\u001b[0;34m\u001b[0m\u001b[0;34m\u001b[0m\u001b[0m\n\u001b[0;32m----> 2\u001b[0;31m \u001b[0mPiura\u001b[0m\u001b[0;34m[\u001b[0m\u001b[0;36m1\u001b[0m\u001b[0;34m]\u001b[0m\u001b[0;34m.\u001b[0m\u001b[0mplot\u001b[0m\u001b[0;34m(\u001b[0m\u001b[0mkind\u001b[0m\u001b[0;34m=\u001b[0m\u001b[0;34m'kde'\u001b[0m\u001b[0;34m,\u001b[0m \u001b[0mlinewidth\u001b[0m\u001b[0;34m=\u001b[0m\u001b[0;36m3\u001b[0m\u001b[0;34m)\u001b[0m\u001b[0;34m;\u001b[0m\u001b[0;34m\u001b[0m\u001b[0m\n\u001b[0m\u001b[1;32m      3\u001b[0m \u001b[0mplt\u001b[0m\u001b[0;34m.\u001b[0m\u001b[0maxis\u001b[0m\u001b[0;34m(\u001b[0m\u001b[0;34m[\u001b[0m\u001b[0;36m0.2\u001b[0m\u001b[0;34m,\u001b[0m \u001b[0;36m1.5\u001b[0m\u001b[0;34m,\u001b[0m \u001b[0;36m0\u001b[0m\u001b[0;34m,\u001b[0m \u001b[0;36m1.9\u001b[0m\u001b[0;34m]\u001b[0m\u001b[0;34m)\u001b[0m\u001b[0;34m\u001b[0m\u001b[0m\n",
      "\u001b[0;32m/Applications/Pineapple-Pro.app/Contents/Frameworks/Python.framework/Versions/3.5/lib/python3.5/site-packages/pandas/tools/plotting.py\u001b[0m in \u001b[0;36mplot_series\u001b[0;34m(data, kind, ax, figsize, use_index, title, grid, legend, style, logx, logy, loglog, xticks, yticks, xlim, ylim, rot, fontsize, colormap, table, yerr, xerr, label, secondary_y, **kwds)\u001b[0m\n\u001b[1;32m   2517\u001b[0m                  \u001b[0myerr\u001b[0m\u001b[0;34m=\u001b[0m\u001b[0myerr\u001b[0m\u001b[0;34m,\u001b[0m \u001b[0mxerr\u001b[0m\u001b[0;34m=\u001b[0m\u001b[0mxerr\u001b[0m\u001b[0;34m,\u001b[0m\u001b[0;34m\u001b[0m\u001b[0m\n\u001b[1;32m   2518\u001b[0m                  \u001b[0mlabel\u001b[0m\u001b[0;34m=\u001b[0m\u001b[0mlabel\u001b[0m\u001b[0;34m,\u001b[0m \u001b[0msecondary_y\u001b[0m\u001b[0;34m=\u001b[0m\u001b[0msecondary_y\u001b[0m\u001b[0;34m,\u001b[0m\u001b[0;34m\u001b[0m\u001b[0m\n\u001b[0;32m-> 2519\u001b[0;31m                  **kwds)\n\u001b[0m\u001b[1;32m   2520\u001b[0m \u001b[0;34m\u001b[0m\u001b[0m\n\u001b[1;32m   2521\u001b[0m \u001b[0;34m\u001b[0m\u001b[0m\n",
      "\u001b[0;32m/Applications/Pineapple-Pro.app/Contents/Frameworks/Python.framework/Versions/3.5/lib/python3.5/site-packages/pandas/tools/plotting.py\u001b[0m in \u001b[0;36m_plot\u001b[0;34m(data, x, y, subplots, ax, kind, **kwds)\u001b[0m\n\u001b[1;32m   2322\u001b[0m         \u001b[0mplot_obj\u001b[0m \u001b[0;34m=\u001b[0m \u001b[0mklass\u001b[0m\u001b[0;34m(\u001b[0m\u001b[0mdata\u001b[0m\u001b[0;34m,\u001b[0m \u001b[0msubplots\u001b[0m\u001b[0;34m=\u001b[0m\u001b[0msubplots\u001b[0m\u001b[0;34m,\u001b[0m \u001b[0max\u001b[0m\u001b[0;34m=\u001b[0m\u001b[0max\u001b[0m\u001b[0;34m,\u001b[0m \u001b[0mkind\u001b[0m\u001b[0;34m=\u001b[0m\u001b[0mkind\u001b[0m\u001b[0;34m,\u001b[0m \u001b[0;34m**\u001b[0m\u001b[0mkwds\u001b[0m\u001b[0;34m)\u001b[0m\u001b[0;34m\u001b[0m\u001b[0m\n\u001b[1;32m   2323\u001b[0m \u001b[0;34m\u001b[0m\u001b[0m\n\u001b[0;32m-> 2324\u001b[0;31m     \u001b[0mplot_obj\u001b[0m\u001b[0;34m.\u001b[0m\u001b[0mgenerate\u001b[0m\u001b[0;34m(\u001b[0m\u001b[0;34m)\u001b[0m\u001b[0;34m\u001b[0m\u001b[0m\n\u001b[0m\u001b[1;32m   2325\u001b[0m     \u001b[0mplot_obj\u001b[0m\u001b[0;34m.\u001b[0m\u001b[0mdraw\u001b[0m\u001b[0;34m(\u001b[0m\u001b[0;34m)\u001b[0m\u001b[0;34m\u001b[0m\u001b[0m\n\u001b[1;32m   2326\u001b[0m     \u001b[0;32mreturn\u001b[0m \u001b[0mplot_obj\u001b[0m\u001b[0;34m.\u001b[0m\u001b[0mresult\u001b[0m\u001b[0;34m\u001b[0m\u001b[0m\n",
      "\u001b[0;32m/Applications/Pineapple-Pro.app/Contents/Frameworks/Python.framework/Versions/3.5/lib/python3.5/site-packages/pandas/tools/plotting.py\u001b[0m in \u001b[0;36mgenerate\u001b[0;34m(self)\u001b[0m\n\u001b[1;32m    912\u001b[0m         \u001b[0mself\u001b[0m\u001b[0;34m.\u001b[0m\u001b[0m_compute_plot_data\u001b[0m\u001b[0;34m(\u001b[0m\u001b[0;34m)\u001b[0m\u001b[0;34m\u001b[0m\u001b[0m\n\u001b[1;32m    913\u001b[0m         \u001b[0mself\u001b[0m\u001b[0;34m.\u001b[0m\u001b[0m_setup_subplots\u001b[0m\u001b[0;34m(\u001b[0m\u001b[0;34m)\u001b[0m\u001b[0;34m\u001b[0m\u001b[0m\n\u001b[0;32m--> 914\u001b[0;31m         \u001b[0mself\u001b[0m\u001b[0;34m.\u001b[0m\u001b[0m_make_plot\u001b[0m\u001b[0;34m(\u001b[0m\u001b[0;34m)\u001b[0m\u001b[0;34m\u001b[0m\u001b[0m\n\u001b[0m\u001b[1;32m    915\u001b[0m         \u001b[0mself\u001b[0m\u001b[0;34m.\u001b[0m\u001b[0m_add_table\u001b[0m\u001b[0;34m(\u001b[0m\u001b[0;34m)\u001b[0m\u001b[0;34m\u001b[0m\u001b[0m\n\u001b[1;32m    916\u001b[0m         \u001b[0mself\u001b[0m\u001b[0;34m.\u001b[0m\u001b[0m_make_legend\u001b[0m\u001b[0;34m(\u001b[0m\u001b[0;34m)\u001b[0m\u001b[0;34m\u001b[0m\u001b[0m\n",
      "\u001b[0;32m/Applications/Pineapple-Pro.app/Contents/Frameworks/Python.framework/Versions/3.5/lib/python3.5/site-packages/pandas/tools/plotting.py\u001b[0m in \u001b[0;36m_make_plot\u001b[0;34m(self)\u001b[0m\n\u001b[1;32m   1960\u001b[0m \u001b[0;34m\u001b[0m\u001b[0m\n\u001b[1;32m   1961\u001b[0m     \u001b[0;32mdef\u001b[0m \u001b[0m_make_plot\u001b[0m\u001b[0;34m(\u001b[0m\u001b[0mself\u001b[0m\u001b[0;34m)\u001b[0m\u001b[0;34m:\u001b[0m\u001b[0;34m\u001b[0m\u001b[0m\n\u001b[0;32m-> 1962\u001b[0;31m         \u001b[0mplotf\u001b[0m \u001b[0;34m=\u001b[0m \u001b[0mself\u001b[0m\u001b[0;34m.\u001b[0m\u001b[0m_get_plot_function\u001b[0m\u001b[0;34m(\u001b[0m\u001b[0;34m)\u001b[0m\u001b[0;34m\u001b[0m\u001b[0m\n\u001b[0m\u001b[1;32m   1963\u001b[0m         \u001b[0mcolors\u001b[0m \u001b[0;34m=\u001b[0m \u001b[0mself\u001b[0m\u001b[0;34m.\u001b[0m\u001b[0m_get_colors\u001b[0m\u001b[0;34m(\u001b[0m\u001b[0;34m)\u001b[0m\u001b[0;34m\u001b[0m\u001b[0m\n\u001b[1;32m   1964\u001b[0m         \u001b[0;32mfor\u001b[0m \u001b[0mi\u001b[0m\u001b[0;34m,\u001b[0m \u001b[0;34m(\u001b[0m\u001b[0mlabel\u001b[0m\u001b[0;34m,\u001b[0m \u001b[0my\u001b[0m\u001b[0;34m)\u001b[0m \u001b[0;32min\u001b[0m \u001b[0menumerate\u001b[0m\u001b[0;34m(\u001b[0m\u001b[0mself\u001b[0m\u001b[0;34m.\u001b[0m\u001b[0m_iter_data\u001b[0m\u001b[0;34m(\u001b[0m\u001b[0;34m)\u001b[0m\u001b[0;34m)\u001b[0m\u001b[0;34m:\u001b[0m\u001b[0;34m\u001b[0m\u001b[0m\n",
      "\u001b[0;32m/Applications/Pineapple-Pro.app/Contents/Frameworks/Python.framework/Versions/3.5/lib/python3.5/site-packages/pandas/tools/plotting.py\u001b[0m in \u001b[0;36m_get_plot_function\u001b[0;34m(self)\u001b[0m\n\u001b[1;32m   2014\u001b[0m \u001b[0;34m\u001b[0m\u001b[0m\n\u001b[1;32m   2015\u001b[0m     \u001b[0;32mdef\u001b[0m \u001b[0m_get_plot_function\u001b[0m\u001b[0;34m(\u001b[0m\u001b[0mself\u001b[0m\u001b[0;34m)\u001b[0m\u001b[0;34m:\u001b[0m\u001b[0;34m\u001b[0m\u001b[0m\n\u001b[0;32m-> 2016\u001b[0;31m         \u001b[0;32mfrom\u001b[0m \u001b[0mscipy\u001b[0m\u001b[0;34m.\u001b[0m\u001b[0mstats\u001b[0m \u001b[0;32mimport\u001b[0m \u001b[0mgaussian_kde\u001b[0m\u001b[0;34m\u001b[0m\u001b[0m\n\u001b[0m\u001b[1;32m   2017\u001b[0m         \u001b[0;32mfrom\u001b[0m \u001b[0mscipy\u001b[0m \u001b[0;32mimport\u001b[0m \u001b[0m__version__\u001b[0m \u001b[0;32mas\u001b[0m \u001b[0mspv\u001b[0m\u001b[0;34m\u001b[0m\u001b[0m\n\u001b[1;32m   2018\u001b[0m         \u001b[0mf\u001b[0m \u001b[0;34m=\u001b[0m \u001b[0mMPLPlot\u001b[0m\u001b[0;34m.\u001b[0m\u001b[0m_get_plot_function\u001b[0m\u001b[0;34m(\u001b[0m\u001b[0mself\u001b[0m\u001b[0;34m)\u001b[0m\u001b[0;34m\u001b[0m\u001b[0m\n",
      "\u001b[0;32m/Applications/Pineapple-Pro.app/Contents/Frameworks/Python.framework/Versions/3.5/lib/python3.5/site-packages/scipy/stats/__init__.py\u001b[0m in \u001b[0;36m<module>\u001b[0;34m()\u001b[0m\n\u001b[1;32m    319\u001b[0m \u001b[0;32mfrom\u001b[0m \u001b[0m__future__\u001b[0m \u001b[0;32mimport\u001b[0m \u001b[0mdivision\u001b[0m\u001b[0;34m,\u001b[0m \u001b[0mprint_function\u001b[0m\u001b[0;34m,\u001b[0m \u001b[0mabsolute_import\u001b[0m\u001b[0;34m\u001b[0m\u001b[0m\n\u001b[1;32m    320\u001b[0m \u001b[0;34m\u001b[0m\u001b[0m\n\u001b[0;32m--> 321\u001b[0;31m \u001b[0;32mfrom\u001b[0m \u001b[0;34m.\u001b[0m\u001b[0mstats\u001b[0m \u001b[0;32mimport\u001b[0m \u001b[0;34m*\u001b[0m\u001b[0;34m\u001b[0m\u001b[0m\n\u001b[0m\u001b[1;32m    322\u001b[0m \u001b[0;32mfrom\u001b[0m \u001b[0;34m.\u001b[0m\u001b[0mdistributions\u001b[0m \u001b[0;32mimport\u001b[0m \u001b[0;34m*\u001b[0m\u001b[0;34m\u001b[0m\u001b[0m\n\u001b[1;32m    323\u001b[0m \u001b[0;32mfrom\u001b[0m \u001b[0;34m.\u001b[0m\u001b[0mmorestats\u001b[0m \u001b[0;32mimport\u001b[0m \u001b[0;34m*\u001b[0m\u001b[0;34m\u001b[0m\u001b[0m\n",
      "\u001b[0;32m/Applications/Pineapple-Pro.app/Contents/Frameworks/Python.framework/Versions/3.5/lib/python3.5/site-packages/scipy/stats/stats.py\u001b[0m in \u001b[0;36m<module>\u001b[0;34m()\u001b[0m\n\u001b[1;32m    178\u001b[0m \u001b[0;32mfrom\u001b[0m \u001b[0mscipy\u001b[0m\u001b[0;34m.\u001b[0m\u001b[0m_lib\u001b[0m\u001b[0;34m.\u001b[0m\u001b[0msix\u001b[0m \u001b[0;32mimport\u001b[0m \u001b[0mcallable\u001b[0m\u001b[0;34m,\u001b[0m \u001b[0mstring_types\u001b[0m\u001b[0;34m\u001b[0m\u001b[0m\n\u001b[1;32m    179\u001b[0m \u001b[0;32mfrom\u001b[0m \u001b[0mnumpy\u001b[0m \u001b[0;32mimport\u001b[0m \u001b[0marray\u001b[0m\u001b[0;34m,\u001b[0m \u001b[0masarray\u001b[0m\u001b[0;34m,\u001b[0m \u001b[0mma\u001b[0m\u001b[0;34m,\u001b[0m \u001b[0mzeros\u001b[0m\u001b[0;34m\u001b[0m\u001b[0m\n\u001b[0;32m--> 180\u001b[0;31m \u001b[0;32mimport\u001b[0m \u001b[0mscipy\u001b[0m\u001b[0;34m.\u001b[0m\u001b[0mspecial\u001b[0m \u001b[0;32mas\u001b[0m \u001b[0mspecial\u001b[0m\u001b[0;34m\u001b[0m\u001b[0m\n\u001b[0m\u001b[1;32m    181\u001b[0m \u001b[0;32mimport\u001b[0m \u001b[0mscipy\u001b[0m\u001b[0;34m.\u001b[0m\u001b[0mlinalg\u001b[0m \u001b[0;32mas\u001b[0m \u001b[0mlinalg\u001b[0m\u001b[0;34m\u001b[0m\u001b[0m\n\u001b[1;32m    182\u001b[0m \u001b[0;32mimport\u001b[0m \u001b[0mnumpy\u001b[0m \u001b[0;32mas\u001b[0m \u001b[0mnp\u001b[0m\u001b[0;34m\u001b[0m\u001b[0m\n",
      "\u001b[0;32m/Applications/Pineapple-Pro.app/Contents/Frameworks/Python.framework/Versions/3.5/lib/python3.5/site-packages/scipy/special/__init__.py\u001b[0m in \u001b[0;36m<module>\u001b[0;34m()\u001b[0m\n\u001b[1;32m    599\u001b[0m \u001b[0;32mfrom\u001b[0m \u001b[0m__future__\u001b[0m \u001b[0;32mimport\u001b[0m \u001b[0mdivision\u001b[0m\u001b[0;34m,\u001b[0m \u001b[0mprint_function\u001b[0m\u001b[0;34m,\u001b[0m \u001b[0mabsolute_import\u001b[0m\u001b[0;34m\u001b[0m\u001b[0m\n\u001b[1;32m    600\u001b[0m \u001b[0;34m\u001b[0m\u001b[0m\n\u001b[0;32m--> 601\u001b[0;31m \u001b[0;32mfrom\u001b[0m \u001b[0;34m.\u001b[0m\u001b[0m_ufuncs\u001b[0m \u001b[0;32mimport\u001b[0m \u001b[0;34m*\u001b[0m\u001b[0;34m\u001b[0m\u001b[0m\n\u001b[0m\u001b[1;32m    602\u001b[0m \u001b[0;34m\u001b[0m\u001b[0m\n\u001b[1;32m    603\u001b[0m \u001b[0;32mfrom\u001b[0m \u001b[0;34m.\u001b[0m\u001b[0mbasic\u001b[0m \u001b[0;32mimport\u001b[0m \u001b[0;34m*\u001b[0m\u001b[0;34m\u001b[0m\u001b[0m\n",
      "\u001b[0;31mImportError\u001b[0m: dlopen(/Applications/Pineapple-Pro.app/Contents/Frameworks/Python.framework/Versions/3.5/lib/python3.5/site-packages/scipy/special/_ufuncs.cpython-35m-darwin.so, 2): Library not loaded: /usr/local/lib/gcc/5/libgfortran.3.dylib\n  Referenced from: /Applications/Pineapple-Pro.app/Contents/Frameworks/Python.framework/Versions/3.5/lib/python3.5/site-packages/scipy/special/_ufuncs.cpython-35m-darwin.so\n  Reason: image not found"
     ]
    },
    {
     "data": {
      "image/png": "[encoded data removed]",
      "text/plain": [
       "<matplotlib.figure.Figure at 0x10e79bf98>"
      ]
     },
     "metadata": {},
     "output_type": "display_data"
    }
   ],
   "source": []
  },
  {
   "cell_type": "code",
   "execution_count": null,
   "metadata": {
    "collapsed": false
   },
   "outputs": [],
   "source": []
  }
 ],
 "metadata": {
  "kernelspec": {
   "display_name": "Python 3",
   "language": "python",
   "name": "python3"
  },
  "language_info": {
   "codemirror_mode": {
    "name": "ipython",
    "version": 3
   },
   "file_extension": ".py",
   "mimetype": "text/x-python",
   "name": "python",
   "nbconvert_exporter": "python",
   "pygments_lexer": "ipython3",
   "version": "3.5.0"
  }
 },
 "nbformat": 4,
 "nbformat_minor": 0
}
