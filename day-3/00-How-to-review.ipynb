{
 "cells": [
  {
   "cell_type": "markdown",
   "metadata": {},
   "source": [
    "#Download Sequence File from NCBI"
   ]
  },
  {
   "cell_type": "markdown",
   "metadata": {},
   "source": [
    "<img src=\"http://eagle.fish.washington.edu/cnidarian/skitch/National_Center_for_Biotechnology_Information_1BD90BD1.png\" alt=\"National_Center_for_Biotechnology_Information_1BD90BD1.png\"/>"
   ]
  },
  {
   "cell_type": "markdown",
   "metadata": {},
   "source": [
    "<img src=\"http://eagle.fish.washington.edu/cnidarian/skitch/crassostrea_forkhead_-_Nucleotide_-_NCBI_1BD90C2B.png\" alt=\"crassostrea_forkhead_-_Nucleotide_-_NCBI_1BD90C2B.png\"/>"
   ]
  },
  {
   "cell_type": "markdown",
   "metadata": {},
   "source": [
    "<img src=\"http://eagle.fish.washington.edu/cnidarian/skitch/Crassostrea_gigas_forkhead_box_protein_L2-like__LOC105319597___mRNA_-_Nucleotide_-_NCBI_1BD90C9E.png\" alt=\"Crassostrea_gigas_forkhead_box_protein_L2-like__LOC105319597___mRNA_-_Nucleotide_-_NCBI_1BD90C9E.png\"/>"
   ]
  },
  {
   "cell_type": "markdown",
   "metadata": {},
   "source": [
    "# SQLShare Intro\n",
    "\n",
    "This is the website\n",
    "`https://sqlshare.escience.washington.edu`\n",
    "<hr>\n",
    "<img src=\"http://eagle.fish.washington.edu/cnidarian/skitch/SQLShare_187B106E.png\" alt=\"SQLShare_187B106E.png\" width = 75%/>\n",
    "<hr>\n",
    "\n",
    "All you need to log on is a UW Id or Google Account. \n",
    "\n",
    "Once you log in the main UIs include\n",
    "\n",
    "<hr>\n",
    "<img src=\"http://eagle.fish.washington.edu/cnidarian/skitch/SQLShare_and_README.md_and_SQLShare_187B110A.png\" alt=\"SQLShare_and_README.md_and_SQLShare_187B110A.png\" width = 75%/>\n",
    "<hr>\n",
    "<img src=\"http://eagle.fish.washington.edu/cnidarian/skitch/Upload_File_187B115D.png\" alt=\"Upload_File_187B115D.png\" width = 75%/>\n",
    "<hr>\n",
    "<img src=\"http://eagle.fish.washington.edu/cnidarian/skitch/Upload_File_187B1184.png\" alt=\"Upload_File_187B1184.png\" width = 75%/>\n",
    "<hr>\n",
    "\n",
    "In short, SQLShare is a easy way to manipulate tabular data, including (but not limited to)    \n",
    "- selecting data subsets   \n",
    "- joining tables   \n",
    "- performing arithmatic   \n",
    "- reorganizing tabular data   \n",
    "\n",
    "<hr>\n",
    "### Here is a straight-forward example of joining two tables. \n",
    "A BLAST output table will be joined with gene descriptions.\n",
    "\n",
    "Table 1 is a BLAST output tablular file uploaded using wizard shown above.\n",
    "<https://sqlshare.escience.washington.edu/sqlshare/#s=query/wearh%40washington.edu/Oly_Blast_uniprot_swissprot.txt>\n",
    "<hr>\n",
    "<img src=\"http://eagle.fish.washington.edu/cnidarian/skitch/SQLShare_-_View_Query_187B13C2.png\" alt=\"SQLShare_-_View_Query_187B13C2.png\" width = 75%/>\n",
    "<hr>\n",
    "<img src=\"http://eagle.fish.washington.edu/cnidarian/skitch/SQLShare_-_View_Query_and_SQLShare_187B14E1.png\" alt=\"SQLShare_-_View_Query_and_SQLShare_187B14E1.png\" width = 75%/>\n",
    "<hr>\n",
    "<img src=\"http://eagle.fish.washington.edu/cnidarian/skitch/SQLShare_-_View_Query_187B18DE.png\" alt=\"SQLShare_-_View_Query_187B18DE.png\" width = 75%/>\n",
    "<hr> \n",
    "This can also be done in New Query UI\n",
    "<img src=\"http://eagle.fish.washington.edu/cnidarian/skitch/Run_Query_187B1988.png\" alt=\"Run_Query_187B1988.png\" width = 75%/>    \n",
    "And from here you can Save or simply download the joined table.\n",
    "<hr>\n",
    "\n",
    "\n",
    "\n",
    "Explanation of code\n",
    "\n",
    "```\n",
    "SELECT *    \n",
    "FROM     \n",
    "[wearh@washington.edu].[Oly_Blast_uniprot_swissprot.txt]blast   \n",
    "Left Join \n",
    "[samwhite@washington.edu].[UniprotProtNamesReviewed_yes20130610]unp \n",
    "on\n",
    "blast.Column3 = unp.SPID​\n",
    "```\n",
    "\n",
    "<img src=\"http://eagle.fish.washington.edu/cnidarian/skitch/Run_Query_187B1B37.png\" alt=\"Run_Query_187B1B37.png\" width = 100%/>\n",
    "\n",
    "\n"
   ]
  },
  {
   "cell_type": "code",
   "execution_count": null,
   "metadata": {
    "collapsed": true
   },
   "outputs": [],
   "source": []
  },
  {
   "cell_type": "code",
   "execution_count": null,
   "metadata": {
    "collapsed": true
   },
   "outputs": [],
   "source": []
  }
 ],
 "metadata": {
  "kernelspec": {
   "display_name": "Python 2",
   "language": "python",
   "name": "python2"
  },
  "language_info": {
   "codemirror_mode": {
    "name": "ipython",
    "version": 2
   },
   "file_extension": ".py",
   "mimetype": "text/x-python",
   "name": "python",
   "nbconvert_exporter": "python",
   "pygments_lexer": "ipython2",
   "version": "2.7.10"
  }
 },
 "nbformat": 4,
 "nbformat_minor": 0
}
