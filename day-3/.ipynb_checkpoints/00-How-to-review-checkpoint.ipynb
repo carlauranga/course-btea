{
 "cells": [
  {
   "cell_type": "markdown",
   "metadata": {},
   "source": [
    "#Download Sequence File from NCBI"
   ]
  },
  {
   "cell_type": "markdown",
   "metadata": {},
   "source": [
    "<img src=\"http://eagle.fish.washington.edu/cnidarian/skitch/National_Center_for_Biotechnology_Information_1BD90BD1.png\" alt=\"National_Center_for_Biotechnology_Information_1BD90BD1.png\"/>"
   ]
  },
  {
   "cell_type": "markdown",
   "metadata": {},
   "source": [
    "<img src=\"http://eagle.fish.washington.edu/cnidarian/skitch/crassostrea_forkhead_-_Nucleotide_-_NCBI_1BD90C2B.png\" alt=\"crassostrea_forkhead_-_Nucleotide_-_NCBI_1BD90C2B.png\"/>"
   ]
  },
  {
   "cell_type": "markdown",
   "metadata": {},
   "source": [
    "<img src=\"http://eagle.fish.washington.edu/cnidarian/skitch/Crassostrea_gigas_forkhead_box_protein_L2-like__LOC105319597___mRNA_-_Nucleotide_-_NCBI_1BD90C9E.png\" alt=\"Crassostrea_gigas_forkhead_box_protein_L2-like__LOC105319597___mRNA_-_Nucleotide_-_NCBI_1BD90C9E.png\"/>"
   ]
  },
  {
   "cell_type": "code",
   "execution_count": null,
   "metadata": {
    "collapsed": true
   },
   "outputs": [],
   "source": []
  }
 ],
 "metadata": {
  "kernelspec": {
   "display_name": "Python 2",
   "language": "python",
   "name": "python2"
  },
  "language_info": {
   "codemirror_mode": {
    "name": "ipython",
    "version": 2
   },
   "file_extension": ".py",
   "mimetype": "text/x-python",
   "name": "python",
   "nbconvert_exporter": "python",
   "pygments_lexer": "ipython2",
   "version": "2.7.10"
  }
 },
 "nbformat": 4,
 "nbformat_minor": 0
}
