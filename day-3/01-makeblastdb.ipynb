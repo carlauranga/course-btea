{
 "cells": [
  {
   "cell_type": "code",
   "execution_count": 1,
   "metadata": {
    "collapsed": false
   },
   "outputs": [
    {
     "name": "stdout",
     "output_type": "stream",
     "text": [
      "USAGE\r\n",
      "  makeblastdb [-h] [-help] [-in input_file] [-input_type type]\r\n",
      "    -dbtype molecule_type [-title database_title] [-parse_seqids]\r\n",
      "    [-hash_index] [-mask_data mask_data_files] [-gi_mask]\r\n",
      "    [-gi_mask_name gi_based_mask_names] [-out database_name]\r\n",
      "    [-max_file_sz number_of_bytes] [-taxid TaxID] [-taxid_map TaxIDMapFile]\r\n",
      "    [-logfile File_Name] [-version]\r\n",
      "\r\n",
      "DESCRIPTION\r\n",
      "   Application to create BLAST databases, version 2.2.26+\r\n",
      "\r\n",
      "Use '-help' to print detailed descriptions of command line arguments\r\n"
     ]
    }
   ],
   "source": [
    "!makeblastdb -h"
   ]
  },
  {
   "cell_type": "code",
   "execution_count": 2,
   "metadata": {
    "collapsed": false
   },
   "outputs": [
    {
     "name": "stdout",
     "output_type": "stream",
     "text": [
      "\n",
      "\n",
      "Building a new DB, current time: 10/22/2015 08:49:50\n",
      "New DB name:   //Users/sr320/Desktop/big-data/Oly_Male\n",
      "New DB title:  /Users/sr320/Desktop/big-data/Oly_Male.fa\n",
      "Sequence type: Nucleotide\n",
      "Keep Linkouts: T\n",
      "Keep MBits: T\n",
      "Maximum file size: 1073741824B\n",
      "Adding sequences from FASTA; added 102580 sequences in 8.09599 seconds.\n"
     ]
    }
   ],
   "source": [
    "!makeblastdb \\\n",
    "-dbtype nucl \\\n",
    "-in /Users/sr320/Desktop/big-data/Oly_Male.fa \\\n",
    "-out //Users/sr320/Desktop/big-data/Oly_Male"
   ]
  },
  {
   "cell_type": "code",
   "execution_count": 3,
   "metadata": {
    "collapsed": false
   },
   "outputs": [
    {
     "name": "stdout",
     "output_type": "stream",
     "text": [
      "\n",
      "\n",
      "Building a new DB, current time: 10/22/2015 08:50:34\n",
      "New DB name:   //Users/sr320/Desktop/big-data/Oly_Female\n",
      "New DB title:  /Users/sr320/Desktop/big-data/Oly_Female.fa\n",
      "Sequence type: Nucleotide\n",
      "Keep Linkouts: T\n",
      "Keep MBits: T\n",
      "Maximum file size: 1073741824B\n",
      "Adding sequences from FASTA; added 88230 sequences in 6.54543 seconds.\n"
     ]
    }
   ],
   "source": [
    "!makeblastdb \\\n",
    "-dbtype nucl \\\n",
    "-in /Users/sr320/Desktop/big-data/Oly_Female.fa \\\n",
    "-out //Users/sr320/Desktop/big-data/Oly_Female\n"
   ]
  },
  {
   "cell_type": "code",
   "execution_count": 4,
   "metadata": {
    "collapsed": false
   },
   "outputs": [
    {
     "name": "stdout",
     "output_type": "stream",
     "text": [
      "\n",
      "\n",
      "Building a new DB, current time: 10/22/2015 08:51:16\n",
      "New DB name:   //Users/sr320/Desktop/big-data/Geo_Male\n",
      "New DB title:  /Users/sr320/Desktop/big-data/Geo_Male.fa\n",
      "Sequence type: Nucleotide\n",
      "Keep Linkouts: T\n",
      "Keep MBits: T\n",
      "Maximum file size: 1073741824B\n",
      "Adding sequences from FASTA; added 69392 sequences in 4.46017 seconds.\n"
     ]
    }
   ],
   "source": [
    "!makeblastdb \\\n",
    "-dbtype nucl \\\n",
    "-in /Users/sr320/Desktop/big-data/Geo_Male.fa \\\n",
    "-out //Users/sr320/Desktop/big-data/Geo_Male"
   ]
  },
  {
   "cell_type": "code",
   "execution_count": 5,
   "metadata": {
    "collapsed": false
   },
   "outputs": [
    {
     "name": "stdout",
     "output_type": "stream",
     "text": [
      "\n",
      "\n",
      "Building a new DB, current time: 10/22/2015 08:52:00\n",
      "New DB name:   //Users/sr320/Desktop/big-data/Geo_Female\n",
      "New DB title:  /Users/sr320/Desktop/big-data/Geo_Female.fa\n",
      "Sequence type: Nucleotide\n",
      "Keep Linkouts: T\n",
      "Keep MBits: T\n",
      "Maximum file size: 1073741824B\n",
      "Adding sequences from FASTA; added 64711 sequences in 4.44585 seconds.\n"
     ]
    }
   ],
   "source": [
    "!makeblastdb \\\n",
    "-dbtype nucl \\\n",
    "-in /Users/sr320/Desktop/big-data/Geo_Female.fa \\\n",
    "-out //Users/sr320/Desktop/big-data/Geo_Female"
   ]
  },
  {
   "cell_type": "code",
   "execution_count": null,
   "metadata": {
    "collapsed": true
   },
   "outputs": [],
   "source": []
  }
 ],
 "metadata": {
  "kernelspec": {
   "display_name": "Python 2",
   "language": "python",
   "name": "python2"
  },
  "language_info": {
   "codemirror_mode": {
    "name": "ipython",
    "version": 2
   },
   "file_extension": ".py",
   "mimetype": "text/x-python",
   "name": "python",
   "nbconvert_exporter": "python",
   "pygments_lexer": "ipython2",
   "version": "2.7.10"
  }
 },
 "nbformat": 4,
 "nbformat_minor": 0
}
