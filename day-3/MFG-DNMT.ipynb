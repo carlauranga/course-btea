{
 "cells": [
  {
   "cell_type": "markdown",
   "metadata": {},
   "source": [
    "# Lets look at the fasta file"
   ]
  },
  {
   "cell_type": "code",
   "execution_count": 1,
   "metadata": {
    "collapsed": false
   },
   "outputs": [
    {
     "name": "stdout",
     "output_type": "stream",
     "text": [
      ">gi|768001213|ref|XM_011527774.1| PREDICTED: Homo sapiens DNA (cytosine-5-)-methyltransferase 1 (DNMT1), transcript variant X3, mRNA\r\n",
      "AAAATGGACCGTGGATTCCCCCGTAGCTCCCTGGTGGCTAGAAACTAGGCGGGGTGGGGGTTCTCTTTTG\r\n",
      "ATCCCCAAATACAGCAAGCTTTGGGCTCAAAGATTTGGAAAGAGACAGCTTAACAGAAAAGGAATGTGTG\r\n",
      "AAGGAGAAATTGAATCTCTTGCACGAATTTCTGCAAACAGAAATAAAGAATCAGTTATGTGACTTGGAAA\r\n",
      "CCAAATTACGTAAAGAAGAATTATCCGAGGAGGGCTACCTGGCTAAAGTCAAATCCCTTTTAAATAAAGA\r\n",
      "TTTGTCCTTGGAGAACGGTGCTCATGCTTACAACCGGGAAGTGAATGGACGTCTAGAAAACGGGAACCAA\r\n",
      "GCAAGAAGTGAAGCCCGTAGAGTGGGAATGGCAGATGCCAACAGCCCCCCCAAACCCCTTTCCAAACCTC\r\n",
      "GCACGCCCAGGAGGAGCAAGTCCGATGGAGAGGCTAAGCCTGAACCTTCACCTAGCCCCAGGATTACAAG\r\n",
      "GAAAAGCACCAGGCAAACCACCATCACATCTCATTTTGCAAAGGGCCCTGCCAAACGGAAACCTCAGGAA\r\n",
      "GAGTCTGAAAGAGCCAAATCGGATGAGTCCATCAAGGAAGAAGACAAAGACCAGGATGAGAAGAGACGTA\r\n"
     ]
    }
   ],
   "source": [
    "!head /Users/sr320/git-repos/course-btea/data/Hsapien_DNMT.fasta"
   ]
  },
  {
   "cell_type": "code",
   "execution_count": null,
   "metadata": {
    "collapsed": true
   },
   "outputs": [],
   "source": []
  }
 ],
 "metadata": {
  "kernelspec": {
   "display_name": "Python 2",
   "language": "python",
   "name": "python2"
  },
  "language_info": {
   "codemirror_mode": {
    "name": "ipython",
    "version": 2
   },
   "file_extension": ".py",
   "mimetype": "text/x-python",
   "name": "python",
   "nbconvert_exporter": "python",
   "pygments_lexer": "ipython2",
   "version": "2.7.10"
  }
 },
 "nbformat": 4,
 "nbformat_minor": 0
}
