{
 "cells": [
  {
   "cell_type": "markdown",
   "metadata": {},
   "source": [
    "#Quality Evaluation"
   ]
  },
  {
   "cell_type": "markdown",
   "metadata": {},
   "source": [
    "Our lab works from a DMP <https://github.com/sr320/LabDocs/blob/master/DMPseq.md> \n",
    "\n",
    "---"
   ]
  },
  {
   "cell_type": "markdown",
   "metadata": {},
   "source": [
    "#_Data Management Plan (Sequence Data)_\n",
    "\n",
    "Data Management Plan for dealing with sequencing data. \n",
    "\n",
    "\n",
    "##Sequence Job Submission\n",
    "We send material to a variety of facilities. As the samples are shipped to a facility, respective information is entered in the Google Docs spreadsheet [*Next Gen Seq Library Database*](https://docs.google.com/spreadsheet/ccc?key=0AtV_gF766XZAdHRlUHJMd0k4S2RpdTZqbjFob2NJb2c&usp=sharing).\n",
    "\n",
    ">screenshot[![g](http://eagle.fish.washington.edu/cnidarian/skitch/Next_Gen_Seq_Library_Database_1A424204.png)](https://docs.google.com/spreadsheet/ccc?key=0AtV_gF766XZAdHRlUHJMd0k4S2RpdTZqbjFob2NJb2c&usp=sharing)\n",
    "\n",
    "\n",
    "##Raw Data\n",
    "1) As sequencing facility provdes data, files are downloaded to our local NAS (owl), in the root `nightingales` directory.  http://owl.fish.washington.edu/nightingales/\n",
    "\n",
    "2) The Nightingales Google Spreadsheet is updated.\n",
    "\n",
    "3) Update the Nightingales Google Fusion Table with new information from the Nightingales Google Spreadsheet.  This is accomplished by:\n",
    "\n",
    "- deleting all rows in the Nightingales Google Fusion Table (Edit > Delete all rows)\n",
    "- Importing data from the Nightingales Google Spreadsheet (File > Import more rows...)\n",
    "\n",
    "4) Once metadata is included in the Google Fusion Table [Nightingales](https://www.google.com/fusiontables/DataSource?docid=13IxnqIZ_2Xpz_HE-3YcnU_egASYz9ZlA0PYIDGLN#rows:id=1), respective data files are moved to subdirectory labelled with first letter of genus followed by species ie `C_gigas`. Check url in Nightingales Fusion table to ensure it is accurate. \n",
    "\n",
    ">    \n",
    "[![ng](http://eagle.fish.washington.edu/cnidarian/skitch/Nightingales_-_Google_Fusion_Tables_1A424859.png)](https://www.google.com/fusiontables/DataSource?docid=13IxnqIZ_2Xpz_HE-3YcnU_egASYz9ZlA0PYIDGLN)\n",
    "\n",
    "##Backup\n",
    "* The Google Docs spreadsheet [*Next Gen Seq Library Database*](https://docs.google.com/spreadsheet/ccc?key=0AtV_gF766XZAdHRlUHJMd0k4S2RpdTZqbjFob2NJb2c&usp=sharing) is backed up on a regular basis? by downloading tab-delimited file and pushing to LabDocs Repository, with the file name `Next_Gen_Seq_Libraries.tsv`\n",
    "\n",
    "* The nigtingales directory on owl is backed up to Amazon Glacier.\n",
    "\n",
    "\n"
   ]
  },
  {
   "cell_type": "markdown",
   "metadata": {},
   "source": [
    "##Based on above - raw data is in fact @      \n",
    "\n",
    "<img src=\"http://eagle.fish.washington.edu/cnidarian/skitch/Index_of__nightingales_P_generosa_1BBC1C9F.png\" alt=\"Index_of__nightingales_P_generosa_1BBC1C9F.png\"/>"
   ]
  },
  {
   "cell_type": "markdown",
   "metadata": {},
   "source": [
    "This is PE 100bp data, big file size. "
   ]
  },
  {
   "cell_type": "markdown",
   "metadata": {},
   "source": [
    "#Step 1 download"
   ]
  },
  {
   "cell_type": "markdown",
   "metadata": {},
   "source": [
    "a) Grab url <img src=\"http://eagle.fish.washington.edu/cnidarian/skitch/Index_of__nightingales_P_generosa_and_1Password_1BBC1DD9.png\" alt=\"Index_of__nightingales_P_generosa_and_1Password_1BBC1DD9.png\"/>"
   ]
  },
  {
   "cell_type": "code",
   "execution_count": 9,
   "metadata": {
    "collapsed": false,
    "scrolled": true
   },
   "outputs": [
    {
     "name": "stdout",
     "output_type": "stream",
     "text": [
      "  % Total    % Received % Xferd  Average Speed   Time    Time     Time  Current\n",
      "                                 Dload  Upload   Total   Spent    Left  Speed\n",
      "100 9465M  100 9465M    0     0  54.3M      0  0:02:54  0:02:54 --:--:-- 41.7M\n"
     ]
    }
   ],
   "source": [
    "!curl http://owl.fish.washington.edu/nightingales/P_generosa/Geo_Pool_F_GGCTAC_L006_R1_001.fastq.gz \\\n",
    "-o /Users/sr320/data-genomic/tentacle/Geo_Pool_F_GGCTAC_L006_R1_001.fastq.gz"
   ]
  },
  {
   "cell_type": "code",
   "execution_count": null,
   "metadata": {
    "collapsed": true
   },
   "outputs": [],
   "source": [
    "!curl http://owl.fish.washington.edu/nightingales/P_generosa/Geo_Pool_F_GGCTAC_L006_R2_001.fastq.gz \\\n",
    "-o /Users/sr320/data-genomic/tentacle/Geo_Pool_F_GGCTAC_L006_R2_001.fastq.gz"
   ]
  },
  {
   "cell_type": "code",
   "execution_count": null,
   "metadata": {
    "collapsed": true
   },
   "outputs": [],
   "source": [
    "!curl http://owl.fish.washington.edu/nightingales/P_generosa/Geo_Pool_M_CTTGTA_L006_R1_001.fastq.gz \\\n",
    "-o /Users/sr320/data-genomic/tentacle/Geo_Pool_M_CTTGTA_L006_R1_001.fastq.gz"
   ]
  },
  {
   "cell_type": "code",
   "execution_count": null,
   "metadata": {
    "collapsed": true
   },
   "outputs": [],
   "source": [
    "!curl http://owl.fish.washington.edu/nightingales/P_generosa/Geo_Pool_M_CTTGTA_L006_R2_001.fastq.gz \\\n",
    "-o /Users/sr320/data-genomic/tentacle/Geo_Pool_M_CTTGTA_L006_R2_001.fastq.gz"
   ]
  },
  {
   "cell_type": "markdown",
   "metadata": {},
   "source": [
    "#Step 2 - Check integrity"
   ]
  },
  {
   "cell_type": "markdown",
   "metadata": {},
   "source": [
    "###View md5 checksum hash (in OSX Terminal)\n",
    "\n",
    "A md5 checksum hash is a unique \"fingerprint\" for each and every file. This hash (which is a string of characters) is used to compare file integrity after transferring a file to a new location (or checking file integrity before and after compression). If the file has successfully transferred (i.e. has not been corrupted), the md5 hash will be the same as it was before the file was transferred.\n",
    "\n",
    "Before copying/moving a file (particularly large files): $md5 /original/path/to/file\n",
    "\n",
    "After copying/moving your file: $md5 /new/path/to/file\n",
    "\n",
    "Compare the hashes provided from both before and after moving the files. If the hashes do NOT match, then the file was modified during transfer and the file should be transferred again."
   ]
  },
  {
   "cell_type": "code",
   "execution_count": 12,
   "metadata": {
    "collapsed": false
   },
   "outputs": [
    {
     "name": "stdout",
     "output_type": "stream",
     "text": [
      "/Users/sr320/data-genomic/tentacle\n"
     ]
    }
   ],
   "source": [
    "cd /Users/sr320/data-genomic/tentacle/"
   ]
  },
  {
   "cell_type": "code",
   "execution_count": 13,
   "metadata": {
    "collapsed": false
   },
   "outputs": [
    {
     "name": "stdout",
     "output_type": "stream",
     "text": [
      "^C\r\n"
     ]
    }
   ],
   "source": [
    "!md5 Geo_Pool_F_GGCTAC_L006_R1_001.fastq.gz \\\n",
    "Geo_Pool_F_GGCTAC_L006_R2_001.fastq.gz \\\n",
    "Geo_Pool_M_CTTGTA_L006_R1_001.fastq.gz \\\n",
    "Geo_Pool_M_CTTGTA_L006_R2_001.fastq.gz >> Geo_Pool_0915.md5"
   ]
  },
  {
   "cell_type": "code",
   "execution_count": 15,
   "metadata": {
    "collapsed": false
   },
   "outputs": [
    {
     "name": "stdout",
     "output_type": "stream",
     "text": [
      "MD5 (Geo_Pool_F_GGCTAC_L006_R1_001.fastq.gz) = 67a8ec79f655b903b7afa32e4dc3727d\r\n",
      "MD5 (Geo_Pool_F_GGCTAC_L006_R2_001.fastq.gz) = f51d8644ba9280cb6f005b96e080666a\r\n",
      "MD5 (Geo_Pool_M_CTTGTA_L006_R1_001.fastq.gz) = ae44d4dc794b8cd20ba90d7426ef9123\r\n",
      "MD5 (Geo_Pool_M_CTTGTA_L006_R2_001.fastq.gz) = 03fcf100e0e59cb6f36f50aaec1407b6\r\n"
     ]
    }
   ],
   "source": [
    "!head Geo_Pool_0915.md5"
   ]
  },
  {
   "cell_type": "markdown",
   "metadata": {},
   "source": [
    "_Now, compare pre- and post-transfer md5 hash files_\n",
    "\n",
    "`$diff PreTransferMD5hashes.md5 PostTransferMD5hases.md5`\n",
    "\n",
    "Code explanation: diff - Compares files and lists any lines in the files that have differences PreTransferMD5hashes.md5 - The name of the md5 file containing the hashes of the files pre-transfer. PostTransferMD5hases.md5 - The name of the md5 file containing the hashes of the files post-transfer.\n",
    "\n",
    "If there are any differences in the hashes in the two md5 files, those files were corrupted during transfer and should be retransferred."
   ]
  },
  {
   "cell_type": "code",
   "execution_count": 16,
   "metadata": {
    "collapsed": true
   },
   "outputs": [],
   "source": [
    "!diff Geo_Pool_0915.md5 /Volumes/web-1/nightingales/P_generosa/checksums.md5"
   ]
  },
  {
   "cell_type": "code",
   "execution_count": 18,
   "metadata": {
    "collapsed": false
   },
   "outputs": [
    {
     "name": "stdout",
     "output_type": "stream",
     "text": [
      "MD5 (Geo_Pool_F_GGCTAC_L006_R1_001.fastq.gz) = 67a8ec79f655b903b7afa32e4dc3727d\r\n",
      "MD5 (Geo_Pool_F_GGCTAC_L006_R2_001.fastq.gz) = f51d8644ba9280cb6f005b96e080666a\r\n",
      "MD5 (Geo_Pool_M_CTTGTA_L006_R1_001.fastq.gz) = ae44d4dc794b8cd20ba90d7426ef9123\r\n",
      "MD5 (Geo_Pool_M_CTTGTA_L006_R2_001.fastq.gz) = 03fcf100e0e59cb6f36f50aaec1407b6\r\n"
     ]
    }
   ],
   "source": [
    "!cat Geo_Pool_0915.md5"
   ]
  },
  {
   "cell_type": "code",
   "execution_count": 19,
   "metadata": {
    "collapsed": false
   },
   "outputs": [
    {
     "name": "stdout",
     "output_type": "stream",
     "text": [
      "MD5 (Geo_Pool_F_GGCTAC_L006_R1_001.fastq.gz) = 67a8ec79f655b903b7afa32e4dc3727d\r\n",
      "MD5 (Geo_Pool_F_GGCTAC_L006_R2_001.fastq.gz) = f51d8644ba9280cb6f005b96e080666a\r\n",
      "MD5 (Geo_Pool_M_CTTGTA_L006_R1_001.fastq.gz) = ae44d4dc794b8cd20ba90d7426ef9123\r\n",
      "MD5 (Geo_Pool_M_CTTGTA_L006_R2_001.fastq.gz) = 03fcf100e0e59cb6f36f50aaec1407b6\r\n"
     ]
    }
   ],
   "source": [
    "!cat /Volumes/web-1/nightingales/P_generosa/checksums.md5"
   ]
  },
  {
   "cell_type": "markdown",
   "metadata": {
    "collapsed": true
   },
   "source": [
    "#Step 3 trim"
   ]
  },
  {
   "cell_type": "code",
   "execution_count": 3,
   "metadata": {
    "collapsed": false
   },
   "outputs": [
    {
     "name": "stdout",
     "output_type": "stream",
     "text": [
      "/Users/sr320/data-genomic/tentacle/Geoduck_v3\n"
     ]
    }
   ],
   "source": [
    "cd /Users/sr320/data-genomic/tentacle/Geoduck_v3"
   ]
  },
  {
   "cell_type": "code",
   "execution_count": null,
   "metadata": {
    "collapsed": false
   },
   "outputs": [
    {
     "name": "stdout",
     "output_type": "stream",
     "text": [
      "No quality encoding type selected. Assuming that the data provided uses Sanger encoded Phred scores (default)\n",
      "\n",
      "Path to Cutadapt set as: '/Users/sr320/.local/bin/cutadapt' (user defined)\n",
      "1.8.1\n",
      "Cutadapt seems to be working fine (tested command '/Users/sr320/.local/bin/cutadapt --version')\n",
      "\n",
      "\n",
      "AUTO-DETECTING ADAPTER TYPE\n",
      "===========================\n",
      "Attempting to auto-detect adapter type from the first 1 million sequences of the first file (>> /Users/sr320/data-genomic/tentacle/Geo_Pool_M_CTTGTA_L006_R2_001.fastq <<)\n",
      "\n",
      "Found perfect matches for the following adapter sequences:\n",
      "Adapter type\tCount\tSequence\tSequences analysed\tPercentage\n",
      "Illumina\t5574\tAGATCGGAAGAGC\t1000000\t0.56\n",
      "Nextera\t1\tCTGTCTCTTATA\t1000000\t0.00\n",
      "smallRNA\t0\tATGGAATTCTCG\t1000000\t0.00\n",
      "Using Illumina adapter for trimming (count: 5574). Second best hit was Nextera (count: 1)\n",
      "\n",
      "Writing report to 'Geo_Pool_M_CTTGTA_L006_R2_001.fastq_trimming_report.txt'\n",
      "\n",
      "SUMMARISING RUN PARAMETERS\n",
      "==========================\n",
      "Input filename: /Users/sr320/data-genomic/tentacle/Geo_Pool_M_CTTGTA_L006_R2_001.fastq\n",
      "Trimming mode: paired-end\n",
      "Trim Galore version: 0.4.0\n",
      "Cutadapt version: 1.8.1\n",
      "Quality Phred score cutoff: 20\n",
      "Quality encoding type selected: ASCII+33\n",
      "Adapter sequence: 'AGATCGGAAGAGC' (Illumina TruSeq, Sanger iPCR; auto-detected)\n",
      "Maximum trimming error rate: 0.1 (default)\n",
      "Minimum required adapter overlap (stringency): 1 bp\n",
      "Minimum required sequence length for both reads before a sequence pair gets removed: 20 bp\n",
      "Length cut-off for read 1: 35 bp (default)\n",
      "Length cut-off for read 2: 35 bb (default)\n",
      "\n",
      "Writing final adapter and quality trimmed output to Geo_Pool_M_CTTGTA_L006_R2_001_trimmed.fq\n",
      "\n",
      "\n",
      "  >>> Now performing quality (cutoff 20) and adapter trimming in a single pass for the adapter sequence: 'AGATCGGAAGAGC' from file /Users/sr320/data-genomic/tentacle/Geo_Pool_M_CTTGTA_L006_R2_001.fastq <<< \n",
      "10000000 sequences processed\n",
      "20000000 sequences processed\n"
     ]
    }
   ],
   "source": [
    "!/Applications/bioinfo/trim_galore_zip/trim_galore \\\n",
    "--paired \\\n",
    "--retain_unpaired \\\n",
    "--path_to_cutadapt /Users/sr320/.local/bin/cutadapt \\\n",
    "/Users/sr320/data-genomic/tentacle/Geo_Pool_M_CTTGTA_L006_R2_001.fastq \\\n",
    "/Users/sr320/data-genomic/tentacle/Geo_Pool_M_CTTGTA_L006_R1_001.fastq \\\n",
    "/Users/sr320/data-genomic/tentacle/Geo_Pool_F_GGCTAC_L006_R2_001.fastq \\\n",
    "/Users/sr320/data-genomic/tentacle/Geo_Pool_F_GGCTAC_L006_R1_001.fastq"
   ]
  },
  {
   "cell_type": "code",
   "execution_count": null,
   "metadata": {
    "collapsed": true
   },
   "outputs": [],
   "source": []
  }
 ],
 "metadata": {
  "kernelspec": {
   "display_name": "Python 2",
   "language": "python",
   "name": "python2"
  },
  "language_info": {
   "codemirror_mode": {
    "name": "ipython",
    "version": 2
   },
   "file_extension": ".py",
   "mimetype": "text/x-python",
   "name": "python",
   "nbconvert_exporter": "python",
   "pygments_lexer": "ipython2",
   "version": "2.7.10"
  }
 },
 "nbformat": 4,
 "nbformat_minor": 0
}
