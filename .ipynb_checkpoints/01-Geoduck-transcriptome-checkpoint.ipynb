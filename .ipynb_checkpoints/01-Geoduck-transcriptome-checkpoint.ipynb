{
 "cells": [
  {
   "cell_type": "markdown",
   "metadata": {},
   "source": [
    "#Quality Evaluation"
   ]
  },
  {
   "cell_type": "markdown",
   "metadata": {},
   "source": [
    "Our lab works from a DMP <https://github.com/sr320/LabDocs/blob/master/DMPseq.md> \n",
    "\n",
    "---"
   ]
  },
  {
   "cell_type": "markdown",
   "metadata": {},
   "source": [
    "#Data Management Plan (Sequence Data)\n",
    "\n",
    "Data Management Plan for dealing with sequencing data. \n",
    "\n",
    "\n",
    "##Sequence Job Submission\n",
    "We send material to a variety of facilities. As the samples are shipped to a facility, respective information is entered in the Google Docs spreadsheet [*Next Gen Seq Library Database*](https://docs.google.com/spreadsheet/ccc?key=0AtV_gF766XZAdHRlUHJMd0k4S2RpdTZqbjFob2NJb2c&usp=sharing).\n",
    "\n",
    ">screenshot[![g](http://eagle.fish.washington.edu/cnidarian/skitch/Next_Gen_Seq_Library_Database_1A424204.png)](https://docs.google.com/spreadsheet/ccc?key=0AtV_gF766XZAdHRlUHJMd0k4S2RpdTZqbjFob2NJb2c&usp=sharing)\n",
    "\n",
    "\n",
    "##Raw Data\n",
    "1) As sequencing facility provdes data, files are downloaded to our local NAS (owl), in the root `nightingales` directory.  http://owl.fish.washington.edu/nightingales/\n",
    "\n",
    "2) The Nightingales Google Spreadsheet is updated.\n",
    "\n",
    "3) Update the Nightingales Google Fusion Table with new information from the Nightingales Google Spreadsheet.  This is accomplished by:\n",
    "\n",
    "- deleting all rows in the Nightingales Google Fusion Table (Edit > Delete all rows)\n",
    "- Importing data from the Nightingales Google Spreadsheet (File > Import more rows...)\n",
    "\n",
    "4) Once metadata is included in the Google Fusion Table [Nightingales](https://www.google.com/fusiontables/DataSource?docid=13IxnqIZ_2Xpz_HE-3YcnU_egASYz9ZlA0PYIDGLN#rows:id=1), respective data files are moved to subdirectory labelled with first letter of genus followed by species ie `C_gigas`. Check url in Nightingales Fusion table to ensure it is accurate. \n",
    "\n",
    ">    \n",
    "[![ng](http://eagle.fish.washington.edu/cnidarian/skitch/Nightingales_-_Google_Fusion_Tables_1A424859.png)](https://www.google.com/fusiontables/DataSource?docid=13IxnqIZ_2Xpz_HE-3YcnU_egASYz9ZlA0PYIDGLN)\n",
    "\n",
    "##Backup\n",
    "* The Google Docs spreadsheet [*Next Gen Seq Library Database*](https://docs.google.com/spreadsheet/ccc?key=0AtV_gF766XZAdHRlUHJMd0k4S2RpdTZqbjFob2NJb2c&usp=sharing) is backed up on a regular basis? by downloading tab-delimited file and pushing to LabDocs Repository, with the file name `Next_Gen_Seq_Libraries.tsv`\n",
    "\n",
    "* The nigtingales directory on owl is backed up to Amazon Glacier.\n",
    "\n",
    "\n"
   ]
  },
  {
   "cell_type": "markdown",
   "metadata": {},
   "source": [
    "##Based on above - raw data is in fact @      \n",
    "\n",
    "<img src=\"http://eagle.fish.washington.edu/cnidarian/skitch/Index_of__nightingales_P_generosa_1BBC1C9F.png\" alt=\"Index_of__nightingales_P_generosa_1BBC1C9F.png\"/>"
   ]
  },
  {
   "cell_type": "code",
   "execution_count": null,
   "metadata": {
    "collapsed": true
   },
   "outputs": [],
   "source": []
  }
 ],
 "metadata": {
  "kernelspec": {
   "display_name": "Python 2",
   "language": "python",
   "name": "python2"
  },
  "language_info": {
   "codemirror_mode": {
    "name": "ipython",
    "version": 2
   },
   "file_extension": ".py",
   "mimetype": "text/x-python",
   "name": "python",
   "nbconvert_exporter": "python",
   "pygments_lexer": "ipython2",
   "version": "2.7.10"
  }
 },
 "nbformat": 4,
 "nbformat_minor": 0
}
