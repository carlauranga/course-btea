{
 "cells": [
  {
   "cell_type": "markdown",
   "metadata": {},
   "source": [
    "<img src=\"http://eagle.fish.washington.edu/cnidarian/skitch/course-btea_analyses_at_master_·_sr320_course-btea_1BDA9B2E.png\" alt=\"course-btea_analyses_at_master_·_sr320_course-btea_1BDA9B2E.png\"/>"
   ]
  },
  {
   "cell_type": "markdown",
   "metadata": {},
   "source": [
    "## Download the data locally"
   ]
  },
  {
   "cell_type": "code",
   "execution_count": 1,
   "metadata": {
    "collapsed": false
   },
   "outputs": [
    {
     "name": "stdout",
     "output_type": "stream",
     "text": [
      "Geo-Female-full-with-Match-join.csv   Geo_Female-blaxtx-uniprot.out\r\n",
      "GeoF-Annotation-SP-join-F-M-match.csv OlyF_b_OlyM.out\r\n",
      "GeoF_b_GeoM.out                       OlyF_b_OlyM2.out\r\n",
      "GeoF_b_GeoM2.out                      OlyF_b_OlyM3.out\r\n",
      "GeoM_b_GeoF.out                       OlyM_b_OlyF.out\r\n",
      "GeoM_b_GeoF2.out                      OlyM_b_OlyF2.out\r\n",
      "Geo_Female-blaxtx-uniprot-sql.out     OlyM_b_OlyF3.out\r\n"
     ]
    }
   ],
   "source": [
    "!ls ../analyses/"
   ]
  },
  {
   "cell_type": "code",
   "execution_count": 2,
   "metadata": {
    "collapsed": false
   },
   "outputs": [
    {
     "name": "stdout",
     "output_type": "stream",
     "text": [
      "  % Total    % Received % Xferd  Average Speed   Time    Time     Time  Current\n",
      "                                 Dload  Upload   Total   Spent    Left  Speed\n",
      "100 9376k  100 9376k    0     0  2662k      0  0:00:03  0:00:03 --:--:-- 2662k\n"
     ]
    }
   ],
   "source": [
    "!curl https://raw.githubusercontent.com/sr320/course-btea/master/analyses/GeoF-Annotation-SP-join-F-M-match.csv \\\n",
    "-o ../analyses/GeoF-Annotation-SP-join-F-M-match.csv"
   ]
  },
  {
   "cell_type": "code",
   "execution_count": 3,
   "metadata": {
    "collapsed": false
   },
   "outputs": [
    {
     "name": "stdout",
     "output_type": "stream",
     "text": [
      "ContigID,SPID,term,GOID,GOSlim_bin,aspect,ProteinName,GeoF_ID,GeoM_ID,evalue\r",
      "\r\n",
      "Geo_Pool_F_GGCTAC_L006_R1_001_val_1_(paired)_contig_48315,A0AVT1,protein modification process,GO:0006464,protein metabolism,P,Ubiquitin-like modifier-activating enzyme 6 (Ubiquitin-activating enzyme 6) (Monocyte protein 4) (MOP-4) (Ubiquitin-activating enzyme E1-like protein 2) (E1-L2),,,\r",
      "\r\n",
      "Geo_Pool_F_GGCTAC_L006_R1_001_val_1_(paired)_contig_48315,A0AVT1,ubiquitin-dependent protein catabolic process,GO:0006511,protein metabolism,P,Ubiquitin-like modifier-activating enzyme 6 (Ubiquitin-activating enzyme 6) (Monocyte protein 4) (MOP-4) (Ubiquitin-activating enzyme E1-like protein 2) (E1-L2),,,\r",
      "\r\n",
      "Geo_Pool_F_GGCTAC_L006_R1_001_val_1_(paired)_contig_48315,A0AVT1,protein ubiquitination,GO:0016567,protein metabolism,P,Ubiquitin-like modifier-activating enzyme 6 (Ubiquitin-activating enzyme 6) (Monocyte protein 4) (MOP-4) (Ubiquitin-activating enzyme E1-like protein 2) (E1-L2),,,\r",
      "\r\n",
      "Geo_Pool_F_GGCTAC_L006_R1_001_val_1_(paired)_contig_17548,A0JMP0,carbohydrate metabolic process,GO:0005975,other metabolic processes,P,Acid trehalase-like protein 1 (EC 3.2.1.-),Geo_Pool_F_GGCTAC_L006_R1_001_val_1_(paired)_contig_17548,Geo_Pool_M_CTTGTA_L006_R1_001_val_1_(paired)_contig_27192,0\r",
      "\r\n",
      "Geo_Pool_F_GGCTAC_L006_R1_001_val_1_(paired)_contig_17548,A0JMP0,metabolic process,GO:0008152,other metabolic processes,P,Acid trehalase-like protein 1 (EC 3.2.1.-),Geo_Pool_F_GGCTAC_L006_R1_001_val_1_(paired)_contig_17548,Geo_Pool_M_CTTGTA_L006_R1_001_val_1_(paired)_contig_27192,0\r",
      "\r\n",
      "Geo_Pool_F_GGCTAC_L006_R1_001_val_1_(paired)_contig_1358,A0JN53,\"\"\"transcription, DNA-dependent\"\"\",GO:0006351,RNA metabolism,P,RNA polymerase II-associated protein 1,Geo_Pool_F_GGCTAC_L006_R1_001_val_1_(paired)_contig_1358,Geo_Pool_M_CTTGTA_L006_R1_001_val_1_(paired)_contig_35826,0\r",
      "\r\n",
      "Geo_Pool_F_GGCTAC_L006_R1_001_val_1_(paired)_contig_15478,A0JP86,cell adhesion,GO:0007155,cell adhesion,P,Laminin subunit gamma-1,Geo_Pool_F_GGCTAC_L006_R1_001_val_1_(paired)_contig_15478,Geo_Pool_M_CTTGTA_L006_R1_001_val_1_(paired)_contig_8502,0\r",
      "\r\n",
      "Geo_Pool_F_GGCTAC_L006_R1_001_val_1_(paired)_contig_1823,A0JPN4,angiogenesis,GO:0001525,developmental processes,P,Ribonuclease ZC3H12A (EC 3.1.-.-) (Zinc finger CCCH domain-containing protein 12A),Geo_Pool_F_GGCTAC_L006_R1_001_val_1_(paired)_contig_1823,Geo_Pool_M_CTTGTA_L006_R1_001_val_1_(paired)_contig_22164,0\r",
      "\r\n",
      "Geo_Pool_F_GGCTAC_L006_R1_001_val_1_(paired)_contig_1823,A0JPN4,apoptosis,GO:0006915,death,P,Ribonuclease ZC3H12A (EC 3.1.-.-) (Zinc finger CCCH domain-containing protein 12A),Geo_Pool_F_GGCTAC_L006_R1_001_val_1_(paired)_contig_1823,Geo_Pool_M_CTTGTA_L006_R1_001_val_1_(paired)_contig_22164,0\r",
      "\r\n"
     ]
    }
   ],
   "source": [
    "!head ../analyses/GeoF-Annotation-SP-join-F-M-match.csv"
   ]
  },
  {
   "cell_type": "code",
   "execution_count": 6,
   "metadata": {
    "collapsed": true
   },
   "outputs": [],
   "source": [
    "!say good bye jupyter now I am going to excel"
   ]
  },
  {
   "cell_type": "code",
   "execution_count": 7,
   "metadata": {
    "collapsed": false
   },
   "outputs": [
    {
     "name": "stdout",
     "output_type": "stream",
     "text": [
      "  % Total    % Received % Xferd  Average Speed   Time    Time     Time  Current\n",
      "                                 Dload  Upload   Total   Spent    Left  Speed\n",
      "100 42183    0 42183    0     0  26663      0 --:--:--  0:00:01 --:--:-- 26664\n"
     ]
    }
   ],
   "source": [
    "!curl https://david.ncifcrf.gov/data/download/chart_FB03630C119D1445622082115.txt \\\n",
    "-o ../analyses/GeoFemale_BP_enriched.txt    "
   ]
  },
  {
   "cell_type": "code",
   "execution_count": 18,
   "metadata": {
    "collapsed": false
   },
   "outputs": [
    {
     "name": "stdout",
     "output_type": "stream",
     "text": [
      "Geo_Pool_F_GGCTAC_L006_R1_001_val_1_(paired)_contig_27763,P24008,male \u001b[01;31m\u001b[Ksex differentiation\u001b[m\u001b[K,GO:0046661,developmental processes,P,3-oxo-5-alpha-steroid 4-dehydrogenase 1 (EC 1.3.1.22) (SR type 1) (Steroid 5-alpha-reductase 1) (S5AR 1),Geo_Pool_F_GGCTAC_L006_R1_001_val_1_(paired)_contig_27763,Geo_Pool_M_CTTGTA_L006_R1_001_val_1_(paired)_contig_40244,0\n",
      "Geo_Pool_F_GGCTAC_L006_R1_001_val_1_(paired)_contig_3104,P24008,male \u001b[01;31m\u001b[Ksex differentiation\u001b[m\u001b[K,GO:0046661,developmental processes,P,3-oxo-5-alpha-steroid 4-dehydrogenase 1 (EC 1.3.1.22) (SR type 1) (Steroid 5-alpha-reductase 1) (S5AR 1),Geo_Pool_F_GGCTAC_L006_R1_001_val_1_(paired)_contig_3104,Geo_Pool_M_CTTGTA_L006_R1_001_val_1_(paired)_contig_6856,0\n",
      "Geo_Pool_F_GGCTAC_L006_R1_001_val_1_(paired)_contig_27615,Q5E9S3,\u001b[01;31m\u001b[Ksex differentiation\u001b[m\u001b[K,GO:0007548,other biological processes,P,Transcription factor 21 (TCF-21),,,\n",
      "Geo_Pool_F_GGCTAC_L006_R1_001_val_1_(paired)_contig_27764,Q28892,\u001b[01;31m\u001b[Ksex differentiation\u001b[m\u001b[K,GO:0007548,other biological processes,P,3-oxo-5-alpha-steroid 4-dehydrogenase 2 (EC 1.3.1.22) (5 alpha-SR2) (SR type 2) (Steroid 5-alpha-reductase 2) (S5AR 2),Geo_Pool_F_GGCTAC_L006_R1_001_val_1_(paired)_contig_27764,Geo_Pool_M_CTTGTA_L006_R1_001_val_1_(paired)_contig_22864,2E-114\n",
      "Geo_Pool_F_GGCTAC_L006_R1_001_val_1_(paired)_contig_3104,P24008,\u001b[01;31m\u001b[Ksex differentiation\u001b[m\u001b[K,GO:0007548,other biological processes,P,3-oxo-5-alpha-steroid 4-dehydrogenase 1 (EC 1.3.1.22) (SR type 1) (Steroid 5-alpha-reductase 1) (S5AR 1),Geo_Pool_F_GGCTAC_L006_R1_001_val_1_(paired)_contig_3104,Geo_Pool_M_CTTGTA_L006_R1_001_val_1_(paired)_contig_6856,0\n",
      "Geo_Pool_F_GGCTAC_L006_R1_001_val_1_(paired)_contig_60184,P14735,\u001b[01;31m\u001b[Ksex differentiation\u001b[m\u001b[K,GO:0007548,other biological processes,P,Insulin-degrading enzyme (EC 3.4.24.56) (Abeta-degrading protease) (Insulin protease) (Insulinase) (Insulysin),Geo_Pool_F_GGCTAC_L006_R1_001_val_1_(paired)_contig_60184,Geo_Pool_M_CTTGTA_L006_R1_001_val_1_(paired)_contig_68390,5E-106\n",
      "Geo_Pool_F_GGCTAC_L006_R1_001_val_1_(paired)_contig_48268,Q68FF9,\u001b[01;31m\u001b[Ksex differentiation\u001b[m\u001b[K,GO:0007548,other biological processes,P,3-oxo-5-alpha-steroid 4-dehydrogenase 1 (EC 1.3.1.22) (SR type 1) (Steroid 5-alpha-reductase 1) (S5AR 1),Geo_Pool_F_GGCTAC_L006_R1_001_val_1_(paired)_contig_48268,Geo_Pool_M_CTTGTA_L006_R1_001_val_1_(paired)_contig_57293,0\n",
      "Geo_Pool_F_GGCTAC_L006_R1_001_val_1_(paired)_contig_27763,P24008,\u001b[01;31m\u001b[Ksex differentiation\u001b[m\u001b[K,GO:0007548,other biological processes,P,3-oxo-5-alpha-steroid 4-dehydrogenase 1 (EC 1.3.1.22) (SR type 1) (Steroid 5-alpha-reductase 1) (S5AR 1),Geo_Pool_F_GGCTAC_L006_R1_001_val_1_(paired)_contig_27763,Geo_Pool_M_CTTGTA_L006_R1_001_val_1_(paired)_contig_40244,0\n"
     ]
    }
   ],
   "source": [
    "!grep --color \"sex differentiation\" ../analyses/GeoF-Annotation-SP-join-F-M-match.csv"
   ]
  },
  {
   "cell_type": "code",
   "execution_count": 30,
   "metadata": {
    "collapsed": false
   },
   "outputs": [
    {
     "name": "stdout",
     "output_type": "stream",
     "text": [
      "Geo_Pool_F_GGCTAC_L006_R1_001_val_1_(paired)_contig_27615,Q5E9S3,sex differentiation,GO:0007548,other biological processes,P,Transcription factor 21 (TCF-21),,,\n",
      "Geo_Pool_F_GGCTAC_L006_R1_001_val_1_(paired)_contig_27764,Q28892,sex differentiation,GO:0007548,other biological processes,P,3-oxo-5-alpha-steroid 4-dehydrogenase 2 (EC 1.3.1.22) (5 alpha-SR2) (SR type 2) (Steroid 5-alpha-reductase 2) (S5AR 2),Geo_Pool_F_GGCTAC_L006_R1_001_val_1_(paired)_contig_27764,Geo_Pool_M_CTTGTA_L006_R1_001_val_1_(paired)_contig_22864,2E-114\n",
      "Geo_Pool_F_GGCTAC_L006_R1_001_val_1_(paired)_contig_3104,P24008,sex differentiation,GO:0007548,other biological processes,P,3-oxo-5-alpha-steroid 4-dehydrogenase 1 (EC 1.3.1.22) (SR type 1) (Steroid 5-alpha-reductase 1) (S5AR 1),Geo_Pool_F_GGCTAC_L006_R1_001_val_1_(paired)_contig_3104,Geo_Pool_M_CTTGTA_L006_R1_001_val_1_(paired)_contig_6856,0\n",
      "Geo_Pool_F_GGCTAC_L006_R1_001_val_1_(paired)_contig_60184,P14735,sex differentiation,GO:0007548,other biological processes,P,Insulin-degrading enzyme (EC 3.4.24.56) (Abeta-degrading protease) (Insulin protease) (Insulinase) (Insulysin),Geo_Pool_F_GGCTAC_L006_R1_001_val_1_(paired)_contig_60184,Geo_Pool_M_CTTGTA_L006_R1_001_val_1_(paired)_contig_68390,5E-106\n",
      "Geo_Pool_F_GGCTAC_L006_R1_001_val_1_(paired)_contig_48268,Q68FF9,sex differentiation,GO:0007548,other biological processes,P,3-oxo-5-alpha-steroid 4-dehydrogenase 1 (EC 1.3.1.22) (SR type 1) (Steroid 5-alpha-reductase 1) (S5AR 1),Geo_Pool_F_GGCTAC_L006_R1_001_val_1_(paired)_contig_48268,Geo_Pool_M_CTTGTA_L006_R1_001_val_1_(paired)_contig_57293,0\n",
      "Geo_Pool_F_GGCTAC_L006_R1_001_val_1_(paired)_contig_27763,P24008,sex differentiation,GO:0007548,other biological processes,P,3-oxo-5-alpha-steroid 4-dehydrogenase 1 (EC 1.3.1.22) (SR type 1) (Steroid 5-alpha-reductase 1) (S5AR 1),Geo_Pool_F_GGCTAC_L006_R1_001_val_1_(paired)_contig_27763,Geo_Pool_M_CTTGTA_L006_R1_001_val_1_(paired)_contig_40244,0\n"
     ]
    }
   ],
   "source": [
    "!awk -F',' '($3==\"sex differentiation\") {print}' ../analyses/GeoF-Annotation-SP-join-F-M-match.csv"
   ]
  },
  {
   "cell_type": "code",
   "execution_count": 35,
   "metadata": {
    "collapsed": false
   },
   "outputs": [
    {
     "name": "stdout",
     "output_type": "stream",
     "text": [
      "  % Total    % Received % Xferd  Average Speed   Time    Time     Time  Current\n",
      "                                 Dload  Upload   Total   Spent    Left  Speed\n",
      "100   402  100   402    0     0      6      0  0:01:07  0:01:03  0:00:04    95\n"
     ]
    }
   ],
   "source": [
    "!curl http://revigo.irb.hr/download.jsp?filename=5d917890804a9c5e9d79ac06b22d7628024670166528873.xgmml \\\n",
    "-o ../analyses/cytoscapefile.xgmml    "
   ]
  },
  {
   "cell_type": "code",
   "execution_count": 36,
   "metadata": {
    "collapsed": false
   },
   "outputs": [
    {
     "name": "stdout",
     "output_type": "stream",
     "text": [
      "<!DOCTYPE HTML PUBLIC \"-//IETF//DTD HTML 2.0//EN\">\r\n",
      "<html><head>\r\n",
      "<title>503 Service Temporarily Unavailable</title>\r\n",
      "</head><body>\r\n",
      "<h1>Service Temporarily Unavailable</h1>\r\n",
      "<p>The server is temporarily unable to service your\r\n",
      "request due to maintenance downtime or capacity\r\n",
      "problems. Please try again later.</p>\r\n",
      "<hr>\r\n",
      "<address>Apache/2.2.22 (Debian) Server at revigo.irb.hr Port 80</address>\r\n"
     ]
    }
   ],
   "source": [
    "!head ../analyses/cytoscapefile.xgmml    "
   ]
  },
  {
   "cell_type": "code",
   "execution_count": 37,
   "metadata": {
    "collapsed": false
   },
   "outputs": [
    {
     "name": "stdout",
     "output_type": "stream",
     "text": [
      "  % Total    % Received % Xferd  Average Speed   Time    Time     Time  Current\n",
      "                                 Dload  Upload   Total   Spent    Left  Speed\n",
      "100  997k  100  997k    0     0   761k      0  0:00:01  0:00:01 --:--:--  762k\n"
     ]
    }
   ],
   "source": [
    "!curl https://raw.githubusercontent.com/sr320/eimd-sswd/master/data/Phel_countdata.txt \\\n",
    "-o ../analyses/Phel_countdata.txt"
   ]
  },
  {
   "cell_type": "code",
   "execution_count": 38,
   "metadata": {
    "collapsed": false
   },
   "outputs": [
    {
     "name": "stdout",
     "output_type": "stream",
     "text": [
      "Feature ID\tTreated_FHL - Total gene reads\tTreated_PH - Total gene reads\tTreated_L - Total gene reads\tControl_FHL - Total gene reads\tControl_DB - Total gene reads\tControl_PH - Total gene reads\r\n",
      "Phel_contig_1\t168\t37\t8\t89\t28\t38\r\n",
      "Phel_contig_10\t9518\t2752\t839\t22\t42\t180\r\n",
      "Phel_contig_100\t260\t565\t413\t616\t1234\t6104\r\n",
      "Phel_contig_1000\t2043\t3842\t3070\t4311\t8527\t31946\r\n",
      "Phel_contig_10000\t9\t12\t13\t32\t21\t211\r\n",
      "Phel_contig_10001\t44\t225\t89\t90\t54\t365\r\n",
      "Phel_contig_10002\t38\t61\t80\t185\t478\t1267\r\n",
      "Phel_contig_10003\t9\t29\t20\t17\t29\t186\r\n",
      "Phel_contig_10004\t8\t25\t6\t4\t19\t92\r\n"
     ]
    }
   ],
   "source": [
    "!head ../analyses/Phel_countdata.txt"
   ]
  },
  {
   "cell_type": "code",
   "execution_count": null,
   "metadata": {
    "collapsed": true
   },
   "outputs": [],
   "source": []
  }
 ],
 "metadata": {
  "kernelspec": {
   "display_name": "Python 2",
   "language": "python",
   "name": "python2"
  },
  "language_info": {
   "codemirror_mode": {
    "name": "ipython",
    "version": 2
   },
   "file_extension": ".py",
   "mimetype": "text/x-python",
   "name": "python",
   "nbconvert_exporter": "python",
   "pygments_lexer": "ipython2",
   "version": "2.7.10"
  }
 },
 "nbformat": 4,
 "nbformat_minor": 0
}
