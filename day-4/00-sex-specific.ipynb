{
 "cells": [
  {
   "cell_type": "markdown",
   "metadata": {},
   "source": [
    "#Just a few blasts before bed"
   ]
  },
  {
   "cell_type": "code",
   "execution_count": 1,
   "metadata": {
    "collapsed": false
   },
   "outputs": [
    {
     "name": "stdout",
     "output_type": "stream",
     "text": [
      "   60329 /Users/sr320/git-repos/course-btea/analyses/OlyM_b_OlyF.out\r\n"
     ]
    }
   ],
   "source": [
    "!blastn \\\n",
    "-evalue 1E-80 \\\n",
    "-num_threads 4 \\\n",
    "-max_target_seqs 1 \\\n",
    "-max_hsps_per_subject 1 \\\n",
    "-query /Users/sr320/Desktop/big-data/db/Oly_Male.fa \\\n",
    "-db /Users/sr320/Desktop/big-data/db/Oly_Female \\\n",
    "-outfmt 6 \\\n",
    "-out /Users/sr320/git-repos/course-btea/analyses/OlyM_b_OlyF.out\n",
    "!wc -l /Users/sr320/git-repos/course-btea/analyses/OlyM_b_OlyF.out"
   ]
  },
  {
   "cell_type": "code",
   "execution_count": 2,
   "metadata": {
    "collapsed": false
   },
   "outputs": [
    {
     "name": "stdout",
     "output_type": "stream",
     "text": [
      "   62078 /Users/sr320/git-repos/course-btea/analyses/OlyF_b_OlyM.out\r\n"
     ]
    }
   ],
   "source": [
    "!blastn \\\n",
    "-evalue 1E-80 \\\n",
    "-num_threads 4 \\\n",
    "-max_target_seqs 1 \\\n",
    "-max_hsps_per_subject 1 \\\n",
    "-query /Users/sr320/Desktop/big-data/db/Oly_Female.fa \\\n",
    "-db /Users/sr320/Desktop/big-data/db/Oly_Male \\\n",
    "-outfmt 6 \\\n",
    "-out /Users/sr320/git-repos/course-btea/analyses/OlyF_b_OlyM.out\n",
    "!wc -l /Users/sr320/git-repos/course-btea/analyses/OlyF_b_OlyM.out"
   ]
  },
  {
   "cell_type": "code",
   "execution_count": 3,
   "metadata": {
    "collapsed": false
   },
   "outputs": [
    {
     "name": "stdout",
     "output_type": "stream",
     "text": [
      "   30316 /Users/sr320/git-repos/course-btea/analyses/GeoF_b_GeoM.out\r\n"
     ]
    }
   ],
   "source": [
    "!blastn \\\n",
    "-evalue 1E-80 \\\n",
    "-num_threads 4 \\\n",
    "-max_target_seqs 1 \\\n",
    "-max_hsps_per_subject 1 \\\n",
    "-query /Users/sr320/Desktop/big-data/db/Geo_Female.fa \\\n",
    "-db /Users/sr320/Desktop/big-data/db/Geo_Male \\\n",
    "-outfmt 6 \\\n",
    "-out /Users/sr320/git-repos/course-btea/analyses/GeoF_b_GeoM.out\n",
    "!wc -l /Users/sr320/git-repos/course-btea/analyses/GeoF_b_GeoM.out"
   ]
  },
  {
   "cell_type": "code",
   "execution_count": 4,
   "metadata": {
    "collapsed": false
   },
   "outputs": [
    {
     "name": "stdout",
     "output_type": "stream",
     "text": [
      "   30029 /Users/sr320/git-repos/course-btea/analyses/GeoM_b_GeoF.out\r\n"
     ]
    }
   ],
   "source": [
    "!blastn \\\n",
    "-evalue 1E-80 \\\n",
    "-num_threads 4 \\\n",
    "-max_target_seqs 1 \\\n",
    "-max_hsps_per_subject 1 \\\n",
    "-query /Users/sr320/Desktop/big-data/db/Geo_Male.fa \\\n",
    "-db /Users/sr320/Desktop/big-data/db/Geo_Female \\\n",
    "-outfmt 6 \\\n",
    "-out /Users/sr320/git-repos/course-btea/analyses/GeoM_b_GeoF.out\n",
    "!wc -l /Users/sr320/git-repos/course-btea/analyses/GeoM_b_GeoF.out"
   ]
  },
  {
   "cell_type": "code",
   "execution_count": null,
   "metadata": {
    "collapsed": false
   },
   "outputs": [
    {
     "name": "stdout",
     "output_type": "stream",
     "text": [
      "   70985 /Users/sr320/git-repos/course-btea/analyses/OlyM_b_OlyF2.out\n",
      "   70882 /Users/sr320/git-repos/course-btea/analyses/OlyF_b_OlyM2.out\n",
      "   37874 /Users/sr320/git-repos/course-btea/analyses/GeoF_b_GeoM2.out\n",
      "   37296 /Users/sr320/git-repos/course-btea/analyses/GeoM_b_GeoF2.out\n"
     ]
    }
   ],
   "source": [
    "!blastn \\\n",
    "-task blastn \\\n",
    "-evalue 1E-40 \\\n",
    "-num_threads 4 \\\n",
    "-max_target_seqs 1 \\\n",
    "-max_hsps_per_subject 1 \\\n",
    "-query /Users/sr320/Desktop/big-data/db/Oly_Male.fa \\\n",
    "-db /Users/sr320/Desktop/big-data/db/Oly_Female \\\n",
    "-outfmt 6 \\\n",
    "-out /Users/sr320/git-repos/course-btea/analyses/OlyM_b_OlyF2.out\n",
    "!wc -l /Users/sr320/git-repos/course-btea/analyses/OlyM_b_OlyF2.out\n",
    "!blastn \\\n",
    "-task blastn \\\n",
    "-evalue 1E-40 \\\n",
    "-num_threads 4 \\\n",
    "-max_target_seqs 1 \\\n",
    "-max_hsps_per_subject 1 \\\n",
    "-query /Users/sr320/Desktop/big-data/db/Oly_Female.fa \\\n",
    "-db /Users/sr320/Desktop/big-data/db/Oly_Male \\\n",
    "-outfmt 6 \\\n",
    "-out /Users/sr320/git-repos/course-btea/analyses/OlyF_b_OlyM2.out\n",
    "!wc -l /Users/sr320/git-repos/course-btea/analyses/OlyF_b_OlyM2.out\n",
    "!blastn \\\n",
    "-task blastn \\\n",
    "-evalue 1E-40 \\\n",
    "-num_threads 4 \\\n",
    "-max_target_seqs 1 \\\n",
    "-max_hsps_per_subject 1 \\\n",
    "-query /Users/sr320/Desktop/big-data/db/Geo_Female.fa \\\n",
    "-db /Users/sr320/Desktop/big-data/db/Geo_Male \\\n",
    "-outfmt 6 \\\n",
    "-out /Users/sr320/git-repos/course-btea/analyses/GeoF_b_GeoM2.out\n",
    "!wc -l /Users/sr320/git-repos/course-btea/analyses/GeoF_b_GeoM2.out\n",
    "!blastn \\\n",
    "-task blastn \\\n",
    "-evalue 1E-40 \\\n",
    "-num_threads 4 \\\n",
    "-max_target_seqs 1 \\\n",
    "-max_hsps_per_subject 1 \\\n",
    "-query /Users/sr320/Desktop/big-data/db/Geo_Male.fa \\\n",
    "-db /Users/sr320/Desktop/big-data/db/Geo_Female \\\n",
    "-outfmt 6 \\\n",
    "-out /Users/sr320/git-repos/course-btea/analyses/GeoM_b_GeoF2.out\n",
    "!wc -l /Users/sr320/git-repos/course-btea/analyses/GeoM_b_GeoF2.out"
   ]
  },
  {
   "cell_type": "code",
   "execution_count": null,
   "metadata": {
    "collapsed": true
   },
   "outputs": [],
   "source": [
    "!blastn \\\n",
    "-task blastn \\\n",
    "-evalue 1E-80 \\\n",
    "-num_threads 4 \\\n",
    "-max_target_seqs 1 \\\n",
    "-max_hsps_per_subject 1 \\\n",
    "-query /Users/sr320/Desktop/big-data/db/Oly_Male.fa \\\n",
    "-db /Users/sr320/Desktop/big-data/db/Oly_Female \\\n",
    "-outfmt 6 \\\n",
    "-out /Users/sr320/git-repos/course-btea/analyses/OlyM_b_OlyF3.out\n",
    "!wc -l /Users/sr320/git-repos/course-btea/analyses/OlyM_b_OlyF3.out\n",
    "!blastn \\\n",
    "-task blastn \\\n",
    "-evalue 1E-80 \\\n",
    "-num_threads 4 \\\n",
    "-max_target_seqs 1 \\\n",
    "-max_hsps_per_subject 1 \\\n",
    "-query /Users/sr320/Desktop/big-data/db/Oly_Female.fa \\\n",
    "-db /Users/sr320/Desktop/big-data/db/Oly_Male \\\n",
    "-outfmt 6 \\\n",
    "-out /Users/sr320/git-repos/course-btea/analyses/OlyF_b_OlyM3.out\n",
    "!wc -l /Users/sr320/git-repos/course-btea/analyses/OlyF_b_OlyM3.out\n",
    "!blastn \\\n",
    "-task blastn \\\n",
    "-evalue 1E-80 \\\n",
    "-num_threads 4 \\\n",
    "-max_target_seqs 1 \\\n",
    "-max_hsps_per_subject 1 \\\n",
    "-query /Users/sr320/Desktop/big-data/db/Geo_Female.fa \\\n",
    "-db /Users/sr320/Desktop/big-data/db/Geo_Male \\\n",
    "-outfmt 6 \\\n",
    "-out /Users/sr320/git-repos/course-btea/analyses/GeoF_b_GeoM3.out\n",
    "!wc -l /Users/sr320/git-repos/course-btea/analyses/GeoF_b_GeoM3.out\n",
    "!blastn \\\n",
    "-task blastn \\\n",
    "-evalue 1E-80 \\\n",
    "-num_threads 4 \\\n",
    "-max_target_seqs 1 \\\n",
    "-max_hsps_per_subject 1 \\\n",
    "-query /Users/sr320/Desktop/big-data/db/Geo_Male.fa \\\n",
    "-db /Users/sr320/Desktop/big-data/db/Geo_Female \\\n",
    "-outfmt 6 \\\n",
    "-out /Users/sr320/git-repos/course-btea/analyses/GeoM_b_GeoF3.out\n",
    "!wc -l /Users/sr320/git-repos/course-btea/analyses/GeoM_b_GeoF3.out"
   ]
  },
  {
   "cell_type": "code",
   "execution_count": null,
   "metadata": {
    "collapsed": true
   },
   "outputs": [],
   "source": []
  }
 ],
 "metadata": {
  "kernelspec": {
   "display_name": "Python 2",
   "language": "python",
   "name": "python2"
  },
  "language_info": {
   "codemirror_mode": {
    "name": "ipython",
    "version": 2
   },
   "file_extension": ".py",
   "mimetype": "text/x-python",
   "name": "python",
   "nbconvert_exporter": "python",
   "pygments_lexer": "ipython2",
   "version": "2.7.10"
  }
 },
 "nbformat": 4,
 "nbformat_minor": 0
}
