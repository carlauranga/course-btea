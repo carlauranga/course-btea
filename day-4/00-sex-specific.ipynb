{
 "cells": [
  {
   "cell_type": "markdown",
   "metadata": {},
   "source": [
    "#Just a few blasts before bed"
   ]
  },
  {
   "cell_type": "code",
   "execution_count": 1,
   "metadata": {
    "collapsed": false
   },
   "outputs": [
    {
     "name": "stdout",
     "output_type": "stream",
     "text": [
      "   60329 /Users/sr320/git-repos/course-btea/analyses/OlyM_b_OlyF.out\r\n"
     ]
    }
   ],
   "source": [
    "!blastn \\\n",
    "-evalue 1E-80 \\\n",
    "-num_threads 4 \\\n",
    "-max_target_seqs 1 \\\n",
    "-max_hsps_per_subject 1 \\\n",
    "-query /Users/sr320/Desktop/big-data/db/Oly_Male.fa \\\n",
    "-db /Users/sr320/Desktop/big-data/db/Oly_Female \\\n",
    "-outfmt 6 \\\n",
    "-out /Users/sr320/git-repos/course-btea/analyses/OlyM_b_OlyF.out\n",
    "!wc -l /Users/sr320/git-repos/course-btea/analyses/OlyM_b_OlyF.out"
   ]
  },
  {
   "cell_type": "code",
   "execution_count": 2,
   "metadata": {
    "collapsed": false
   },
   "outputs": [
    {
     "name": "stdout",
     "output_type": "stream",
     "text": [
      "   62078 /Users/sr320/git-repos/course-btea/analyses/OlyF_b_OlyM.out\r\n"
     ]
    }
   ],
   "source": [
    "!blastn \\\n",
    "-evalue 1E-80 \\\n",
    "-num_threads 4 \\\n",
    "-max_target_seqs 1 \\\n",
    "-max_hsps_per_subject 1 \\\n",
    "-query /Users/sr320/Desktop/big-data/db/Oly_Female.fa \\\n",
    "-db /Users/sr320/Desktop/big-data/db/Oly_Male \\\n",
    "-outfmt 6 \\\n",
    "-out /Users/sr320/git-repos/course-btea/analyses/OlyF_b_OlyM.out\n",
    "!wc -l /Users/sr320/git-repos/course-btea/analyses/OlyF_b_OlyM.out"
   ]
  },
  {
   "cell_type": "code",
   "execution_count": 3,
   "metadata": {
    "collapsed": false
   },
   "outputs": [
    {
     "name": "stdout",
     "output_type": "stream",
     "text": [
      "   30316 /Users/sr320/git-repos/course-btea/analyses/GeoF_b_GeoM.out\r\n"
     ]
    }
   ],
   "source": [
    "!blastn \\\n",
    "-evalue 1E-80 \\\n",
    "-num_threads 4 \\\n",
    "-max_target_seqs 1 \\\n",
    "-max_hsps_per_subject 1 \\\n",
    "-query /Users/sr320/Desktop/big-data/db/Geo_Female.fa \\\n",
    "-db /Users/sr320/Desktop/big-data/db/Geo_Male \\\n",
    "-outfmt 6 \\\n",
    "-out /Users/sr320/git-repos/course-btea/analyses/GeoF_b_GeoM.out\n",
    "!wc -l /Users/sr320/git-repos/course-btea/analyses/GeoF_b_GeoM.out"
   ]
  },
  {
   "cell_type": "code",
   "execution_count": 4,
   "metadata": {
    "collapsed": false
   },
   "outputs": [
    {
     "name": "stdout",
     "output_type": "stream",
     "text": [
      "   30029 /Users/sr320/git-repos/course-btea/analyses/GeoM_b_GeoF.out\r\n"
     ]
    }
   ],
   "source": [
    "!blastn \\\n",
    "-evalue 1E-80 \\\n",
    "-num_threads 4 \\\n",
    "-max_target_seqs 1 \\\n",
    "-max_hsps_per_subject 1 \\\n",
    "-query /Users/sr320/Desktop/big-data/db/Geo_Male.fa \\\n",
    "-db /Users/sr320/Desktop/big-data/db/Geo_Female \\\n",
    "-outfmt 6 \\\n",
    "-out /Users/sr320/git-repos/course-btea/analyses/GeoM_b_GeoF.out\n",
    "!wc -l /Users/sr320/git-repos/course-btea/analyses/GeoM_b_GeoF.out"
   ]
  },
  {
   "cell_type": "markdown",
   "metadata": {},
   "source": [
    "## Annotating all Geo Female with swiss-prot"
   ]
  },
  {
   "cell_type": "code",
   "execution_count": null,
   "metadata": {
    "collapsed": true
   },
   "outputs": [],
   "source": [
    "!blastx \\\n",
    "-query /Volumes/web/btea/data/Geo_Female.fa \\\n",
    "-db /usr/local/bioinformatics/dbs/uniprot_sprot.fasta \\\n",
    "-evalue 1e-30 \\\n",
    "-max_target_seqs 1 \\\n",
    "-max_hsps 1 \\\n",
    "-outfmt 6 \\\n",
    "-num_threads 16 \\\n",
    "-out /Users/sr320/git-repos/course-btea/analyses/Geo_Female-blaxtx-uniprot.out"
   ]
  },
  {
   "cell_type": "code",
   "execution_count": 2,
   "metadata": {
    "collapsed": false
   },
   "outputs": [
    {
     "name": "stdout",
     "output_type": "stream",
     "text": [
      "Geo_Pool_F_GGCTAC_L006_R1_001_val_1_(paired)_contig_4\tsp|P06180|HIBN_XENLA\t43.89\t221\t107\t3\t1254\t616\t326\t537\t3e-45\t  172\r\n",
      "Geo_Pool_F_GGCTAC_L006_R1_001_val_1_(paired)_contig_7\tsp|P18238|ADT3_YEAST\t65.54\t296\t100\t1\t123\t1004\t5\t300\t6e-123\t  379\r\n",
      "Geo_Pool_F_GGCTAC_L006_R1_001_val_1_(paired)_contig_8\tsp|Q3T0Q3|RPB3_BOVIN\t76.64\t274\t63\t1\t2218\t1400\t1\t274\t1e-155\t  460\r\n"
     ]
    }
   ],
   "source": [
    "!head -3 /Users/sr320/git-repos/course-btea/analyses/Geo_Female-blaxtx-uniprot.out"
   ]
  },
  {
   "cell_type": "code",
   "execution_count": 3,
   "metadata": {
    "collapsed": false
   },
   "outputs": [
    {
     "name": "stdout",
     "output_type": "stream",
     "text": [
      "Geo_Pool_F_GGCTAC_L006_R1_001_val_1_(paired)_contig_64647\tsp|A2VD83|GMPBB_XENLA\t80.88\t68\t13\t0\t1\t204\t110\t177\t1e-34\t  125\r\n",
      "Geo_Pool_F_GGCTAC_L006_R1_001_val_1_(paired)_contig_64662\tsp|Q8AW93|DTX1_XENLA\t51.75\t114\t50\t2\t335\t6\t401\t513\t5e-31\t  120\r\n",
      "Geo_Pool_F_GGCTAC_L006_R1_001_val_1_(paired)_contig_64711\tsp|B2UEG8|DGTL1_RALPJ\t88.89\t81\t9\t0\t248\t6\t46\t126\t1e-42\t  148\r\n"
     ]
    }
   ],
   "source": [
    "!tail -3 /Users/sr320/git-repos/course-btea/analyses/Geo_Female-blaxtx-uniprot.out"
   ]
  },
  {
   "cell_type": "code",
   "execution_count": 4,
   "metadata": {
    "collapsed": true
   },
   "outputs": [],
   "source": [
    "!tr '|' \"\\t\" </Users/sr320/git-repos/course-btea/analyses/Geo_Female-blaxtx-uniprot.out> \\\n",
    "/Users/sr320/git-repos/course-btea/analyses/Geo_Female-blaxtx-uniprot-sql.out"
   ]
  },
  {
   "cell_type": "code",
   "execution_count": 6,
   "metadata": {
    "collapsed": false
   },
   "outputs": [
    {
     "name": "stdout",
     "output_type": "stream",
     "text": [
      "Geo_Pool_F_GGCTAC_L006_R1_001_val_1_(paired)_contig_4\tsp\tP06180\tHIBN_XENLA\t43.89\t221\t107\t3\t1254\t616\t326\t537\t3e-45\t  172\r\n",
      "Geo_Pool_F_GGCTAC_L006_R1_001_val_1_(paired)_contig_7\tsp\tP18238\tADT3_YEAST\t65.54\t296\t100\t1\t123\t1004\t5\t300\t6e-123\t  379\r\n",
      "Geo_Pool_F_GGCTAC_L006_R1_001_val_1_(paired)_contig_8\tsp\tQ3T0Q3\tRPB3_BOVIN\t76.64\t274\t63\t1\t2218\t1400\t1\t274\t1e-155\t  460\r\n"
     ]
    }
   ],
   "source": [
    "!head -3 /Users/sr320/git-repos/course-btea/analyses/Geo_Female-blaxtx-uniprot-sql.out"
   ]
  },
  {
   "cell_type": "markdown",
   "metadata": {},
   "source": [
    "<img src=\"http://eagle.fish.washington.edu/cnidarian/skitch/SQLShare_-_View_Query_1BDA5072.png\" alt=\"SQLShare_-_View_Query_1BDA5072.png\"/>"
   ]
  },
  {
   "cell_type": "markdown",
   "metadata": {},
   "source": [
    "##upload Geoduck Female versus Male"
   ]
  },
  {
   "cell_type": "code",
   "execution_count": 9,
   "metadata": {
    "collapsed": false
   },
   "outputs": [
    {
     "name": "stdout",
     "output_type": "stream",
     "text": [
      "Geo_Pool_F_GGCTAC_L006_R1_001_val_1_(paired)_contig_1\tGeo_Pool_M_CTTGTA_L006_R1_001_val_1_(paired)_contig_46202\t100.00\t223\t0\t0\t174\t396\t1\t223\t1e-114\t 412\r\n",
      "Geo_Pool_F_GGCTAC_L006_R1_001_val_1_(paired)_contig_4\tGeo_Pool_M_CTTGTA_L006_R1_001_val_1_(paired)_contig_2155\t97.48\t1509\t8\t15\t59\t1537\t1707\t199\t0.0\t2549\r\n",
      "Geo_Pool_F_GGCTAC_L006_R1_001_val_1_(paired)_contig_5\tGeo_Pool_M_CTTGTA_L006_R1_001_val_1_(paired)_contig_23515\t98.77\t487\t6\t0\t1634\t2120\t487\t1\t0.0\t 867\r\n",
      "Geo_Pool_F_GGCTAC_L006_R1_001_val_1_(paired)_contig_6\tGeo_Pool_M_CTTGTA_L006_R1_001_val_1_(paired)_contig_6572\t98.92\t465\t0\t3\t1\t465\t480\t21\t0.0\t 826\r\n",
      "Geo_Pool_F_GGCTAC_L006_R1_001_val_1_(paired)_contig_7\tGeo_Pool_M_CTTGTA_L006_R1_001_val_1_(paired)_contig_1032\t99.42\t1378\t5\t2\t46\t1423\t24\t1398\t0.0\t2497\r\n",
      "Geo_Pool_F_GGCTAC_L006_R1_001_val_1_(paired)_contig_8\tGeo_Pool_M_CTTGTA_L006_R1_001_val_1_(paired)_contig_6010\t98.86\t1669\t6\t2\t1\t1656\t1669\t1\t0.0\t2972\r\n",
      "Geo_Pool_F_GGCTAC_L006_R1_001_val_1_(paired)_contig_9\tGeo_Pool_M_CTTGTA_L006_R1_001_val_1_(paired)_contig_505\t99.68\t618\t0\t2\t1\t617\t642\t26\t0.0\t1129\r\n",
      "Geo_Pool_F_GGCTAC_L006_R1_001_val_1_(paired)_contig_10\tGeo_Pool_M_CTTGTA_L006_R1_001_val_1_(paired)_contig_381\t100.00\t2341\t0\t0\t62\t2402\t2545\t205\t0.0\t4324\r\n",
      "Geo_Pool_F_GGCTAC_L006_R1_001_val_1_(paired)_contig_12\tGeo_Pool_M_CTTGTA_L006_R1_001_val_1_(paired)_contig_666\t100.00\t874\t0\t0\t602\t1475\t874\t1\t0.0\t1615\r\n",
      "Geo_Pool_F_GGCTAC_L006_R1_001_val_1_(paired)_contig_13\tGeo_Pool_M_CTTGTA_L006_R1_001_val_1_(paired)_contig_706\t99.89\t1826\t2\t0\t1\t1826\t1827\t2\t0.0\t3362\r\n"
     ]
    }
   ],
   "source": [
    "!head /Users/sr320/git-repos/course-btea/analyses/GeoF_b_GeoM.out"
   ]
  },
  {
   "cell_type": "markdown",
   "metadata": {},
   "source": [
    "<img src=\"http://eagle.fish.washington.edu/cnidarian/skitch/SQLShare_-_View_Query_1BDA559D.png\" alt=\"SQLShare_-_View_Query_1BDA559D.png\"/>"
   ]
  },
  {
   "cell_type": "markdown",
   "metadata": {},
   "source": [
    "#renaming\n",
    "\n",
    "```\n",
    "SELECT \n",
    "Column1 as GeoF_ID,\n",
    "Column2 as GeoM_ID,\n",
    "Column11 as evalue  \n",
    "FROM [roberts.blr@gmail.com].[GeoF_blastn_GeoM_3.out]\n",
    "```"
   ]
  },
  {
   "cell_type": "markdown",
   "metadata": {},
   "source": [
    "<img src=\"http://eagle.fish.washington.edu/cnidarian/skitch/SQLShare_-_View_Query_1BDA57BA.png\" alt=\"SQLShare_-_View_Query_1BDA57BA.png\"/>"
   ]
  },
  {
   "cell_type": "markdown",
   "metadata": {},
   "source": [
    "```sql\n",
    "SELECT * FROM \n",
    "[mrc305@gmail.com].[Geo_Female-blastx-uniprot]uni\n",
    "Left Join\n",
    "[roberts.blr@gmail.com].[GeoF_match_GeoM]fm\n",
    "on\n",
    "uni.Column1 = fm.GeoF_ID\n",
    "```"
   ]
  },
  {
   "cell_type": "markdown",
   "metadata": {},
   "source": [
    "<img src=\"http://eagle.fish.washington.edu/cnidarian/skitch/Run_Query_1BDA5820.png\" alt=\"Run_Query_1BDA5820.png\"/>"
   ]
  },
  {
   "cell_type": "markdown",
   "metadata": {},
   "source": [
    "```\n",
    "SELECT * FROM \n",
    "[mrc305@gmail.com].[Geo_Female-blastx-uniprot]uni\n",
    "Left Join\n",
    "[roberts.blr@gmail.com].[GeoF_match_GeoM]fm\n",
    "on\n",
    "uni.Column1 = fm.GeoF_ID\n",
    "Where GeoF_ID is null\n",
    "```"
   ]
  },
  {
   "cell_type": "markdown",
   "metadata": {},
   "source": [
    "#Annotating Full Female Transcriptome"
   ]
  },
  {
   "cell_type": "markdown",
   "metadata": {},
   "source": [
    "```\n",
    "SELECT \n",
    "Column1 as ContigID, term, GOSlim_bin, aspect, ProteinName \n",
    "FROM [mrc305@gmail.com].[Geo_Female-blastx-uniprot]md\n",
    "left join \n",
    "[samwhite@washington.edu].[UniprotProtNamesReviewed_yes20130610]sp\n",
    "on md.Column3=sp.SPID\n",
    "left join\n",
    "[sr320@washington.edu].[SPID and GO Numbers]go\n",
    "on md.Column3=go.SPID\n",
    "left join\n",
    "[sr320@washington.edu].[GO_to_GOslim]slim on go.GOID=slim.GO_id\n",
    "where aspect like 'P'\n",
    "```"
   ]
  },
  {
   "cell_type": "code",
   "execution_count": null,
   "metadata": {
    "collapsed": true
   },
   "outputs": [],
   "source": []
  }
 ],
 "metadata": {
  "kernelspec": {
   "display_name": "Python 2",
   "language": "python",
   "name": "python2"
  },
  "language_info": {
   "codemirror_mode": {
    "name": "ipython",
    "version": 2
   },
   "file_extension": ".py",
   "mimetype": "text/x-python",
   "name": "python",
   "nbconvert_exporter": "python",
   "pygments_lexer": "ipython2",
   "version": "2.7.10"
  }
 },
 "nbformat": 4,
 "nbformat_minor": 0
}
