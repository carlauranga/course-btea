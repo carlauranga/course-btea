{
 "cells": [
  {
   "cell_type": "markdown",
   "metadata": {},
   "source": [
    "#Olympia Oyster transcriptome"
   ]
  },
  {
   "cell_type": "markdown",
   "metadata": {},
   "source": [
    "See Geoduck page for details on how to download and check integretity of raw files.."
   ]
  },
  {
   "cell_type": "code",
   "execution_count": 1,
   "metadata": {
    "collapsed": false
   },
   "outputs": [
    {
     "name": "stdout",
     "output_type": "stream",
     "text": [
      "/Users/sr320/data-genomic/tentacle/OlyOv5\n"
     ]
    }
   ],
   "source": [
    "cd /Users/sr320/data-genomic/tentacle/OlyOv5"
   ]
  },
  {
   "cell_type": "code",
   "execution_count": 3,
   "metadata": {
    "collapsed": false
   },
   "outputs": [
    {
     "name": "stdout",
     "output_type": "stream",
     "text": [
      "/Users/sr320/data-genomic/tentacle/OlyOv5/PE\n"
     ]
    }
   ],
   "source": [
    "cd PE"
   ]
  },
  {
   "cell_type": "code",
   "execution_count": null,
   "metadata": {
    "collapsed": false
   },
   "outputs": [],
   "source": [
    "!cat \\\n",
    "filtered_106A_Female_Mix_GATCAG_L004_R1.fastq \\\n",
    "filtered_108A_Female_Mix_GGCTAC_L004_R1.fastq \\\n",
    "filtered_106A_Male_Mix_TAGCTT_L004_R1.fastq \\\n",
    "filtered_108A_Male_Mix_AGTCAA_L004_R1.fastq >> /Users/sr320/data-genomic/tentacle/OlyOv6/OlyOv6_combined_R1.fastq\n",
    "!cat \\\n",
    "filtered_106A_Female_Mix_GATCAG_L004_R2.fastq \\\n",
    "filtered_108A_Female_Mix_GGCTAC_L004_R2.fastq \\\n",
    "filtered_106A_Male_Mix_TAGCTT_L004_R2.fastq \\\n",
    "filtered_108A_Male_Mix_AGTCAA_L004_R2.fastq >> /Users/sr320/data-genomic/tentacle/OlyOv6/OlyOv6_combined_R2.fastq"
   ]
  },
  {
   "cell_type": "code",
   "execution_count": 1,
   "metadata": {
    "collapsed": false
   },
   "outputs": [
    {
     "name": "stdout",
     "output_type": "stream",
     "text": [
      "@HWI-ST700693:263:C0K6DACXX:4:1101:1464:1969\r\n",
      "NTTCATGAAGGGGTCAACCAGAATGATCTCGTAAAACTTGTAAGATGAATCCTGTGCCACCCAGTAAGAGCTTAGC\r\n",
      "+\r\n",
      "#4=DDDDDHFFHHGGABHIICBGH<E@FHIIGEGIIIIIIIDGGIIGEIIIIIIIIIIGIGGI9=D@CECEEF@CC\r\n",
      "@HWI-ST700693:263:C0K6DACXX:4:1101:1506:1985\r\n",
      "NCCTGATTGAAAACAAAATGTCTTTGTTTTTTCTACTTTGTATGGATCAATCAATCTTATTTGTTCCTGTAGAGAT\r\n",
      "+\r\n",
      "#1=DDFFFHHHHHJJJJJIGFHHJIIIIJJJJIIJIJJJJIJJFEGJIIIIHIGIJJEHIJJJGAGHJJIIIHGD;\r\n",
      "@HWI-ST700693:263:C0K6DACXX:4:1101:1882:1979\r\n",
      "NGGGACTCTAACGAGAACCTTCCGTCATCTGGCTCTGGACATAACCATGGTTAACAAGAACACTGTCATGGTGGAG\r\n"
     ]
    }
   ],
   "source": [
    "!head /Users/sr320/data-genomic/tentacle/OlyOv6/OlyOv6_combined_R1.fastq\n"
   ]
  },
  {
   "cell_type": "code",
   "execution_count": 3,
   "metadata": {
    "collapsed": false
   },
   "outputs": [
    {
     "name": "stdout",
     "output_type": "stream",
     "text": [
      "/Users/sr320/data-genomic/tentacle/OlyOv6\n"
     ]
    }
   ],
   "source": [
    "cd /Users/sr320/data-genomic/tentacle/OlyOv6"
   ]
  },
  {
   "cell_type": "code",
   "execution_count": 4,
   "metadata": {
    "collapsed": false
   },
   "outputs": [
    {
     "name": "stdout",
     "output_type": "stream",
     "text": [
      "Started analysis of OlyOv6_combined_R1.fastq\n",
      "Approx 5% complete for OlyOv6_combined_R1.fastq\n",
      "Approx 10% complete for OlyOv6_combined_R1.fastq\n",
      "Approx 15% complete for OlyOv6_combined_R1.fastq\n",
      "Approx 20% complete for OlyOv6_combined_R1.fastq\n",
      "Approx 25% complete for OlyOv6_combined_R1.fastq\n",
      "Approx 30% complete for OlyOv6_combined_R1.fastq\n",
      "Approx 35% complete for OlyOv6_combined_R1.fastq\n",
      "Approx 40% complete for OlyOv6_combined_R1.fastq\n",
      "Approx 45% complete for OlyOv6_combined_R1.fastq\n",
      "Approx 50% complete for OlyOv6_combined_R1.fastq\n",
      "Approx 55% complete for OlyOv6_combined_R1.fastq\n",
      "Approx 60% complete for OlyOv6_combined_R1.fastq\n",
      "Approx 65% complete for OlyOv6_combined_R1.fastq\n",
      "Approx 70% complete for OlyOv6_combined_R1.fastq\n",
      "Approx 75% complete for OlyOv6_combined_R1.fastq\n",
      "Approx 80% complete for OlyOv6_combined_R1.fastq\n",
      "Approx 85% complete for OlyOv6_combined_R1.fastq\n",
      "Approx 90% complete for OlyOv6_combined_R1.fastq\n",
      "Approx 95% complete for OlyOv6_combined_R1.fastq\n",
      "Analysis complete for OlyOv6_combined_R1.fastq\n",
      "Started analysis of OlyOv6_combined_R2.fastq\n",
      "Approx 5% complete for OlyOv6_combined_R2.fastq\n",
      "Approx 10% complete for OlyOv6_combined_R2.fastq\n",
      "Approx 15% complete for OlyOv6_combined_R2.fastq\n",
      "Approx 20% complete for OlyOv6_combined_R2.fastq\n",
      "Approx 25% complete for OlyOv6_combined_R2.fastq\n",
      "Approx 30% complete for OlyOv6_combined_R2.fastq\n",
      "Approx 35% complete for OlyOv6_combined_R2.fastq\n",
      "Approx 40% complete for OlyOv6_combined_R2.fastq\n",
      "Approx 45% complete for OlyOv6_combined_R2.fastq\n",
      "Approx 50% complete for OlyOv6_combined_R2.fastq\n",
      "Approx 55% complete for OlyOv6_combined_R2.fastq\n",
      "Approx 60% complete for OlyOv6_combined_R2.fastq\n",
      "Approx 65% complete for OlyOv6_combined_R2.fastq\n",
      "Approx 70% complete for OlyOv6_combined_R2.fastq\n",
      "Approx 75% complete for OlyOv6_combined_R2.fastq\n",
      "Approx 80% complete for OlyOv6_combined_R2.fastq\n",
      "Approx 85% complete for OlyOv6_combined_R2.fastq\n",
      "Approx 90% complete for OlyOv6_combined_R2.fastq\n",
      "Approx 95% complete for OlyOv6_combined_R2.fastq\n",
      "Analysis complete for OlyOv6_combined_R2.fastq\n"
     ]
    }
   ],
   "source": [
    "!/Applications/bioinfo/FastQC/fastqc \\\n",
    "/Users/sr320/data-genomic/tentacle/OlyOv6/OlyOv6_combined_R1.fastq \\\n",
    "/Users/sr320/data-genomic/tentacle/OlyOv6/OlyOv6_combined_R2.fastq"
   ]
  },
  {
   "cell_type": "markdown",
   "metadata": {},
   "source": [
    "These files are created locally\n",
    "\n",
    "<img src=\"http://eagle.fish.washington.edu/cnidarian/skitch/OlyOv6_1BBEE01A.png\" alt=\"OlyOv6_1BBEE01A.png\"/>"
   ]
  },
  {
   "cell_type": "markdown",
   "metadata": {},
   "source": [
    "<img src=\"http://eagle.fish.washington.edu/cnidarian/skitch/OlyOv6_combined_R1_fastq_FastQC_Report_1BBEE058.png\" alt=\"OlyOv6_combined_R1_fastq_FastQC_Report_1BBEE058.png\"/>"
   ]
  },
  {
   "cell_type": "markdown",
   "metadata": {},
   "source": [
    "<img src=\"http://eagle.fish.washington.edu/cnidarian/skitch/OlyOv6_combined_R1_fastq_FastQC_Report_1BBEE088.png\" alt=\"OlyOv6_combined_R1_fastq_FastQC_Report_1BBEE088.png\"/>"
   ]
  },
  {
   "cell_type": "markdown",
   "metadata": {},
   "source": [
    "<img src=\"http://eagle.fish.washington.edu/cnidarian/skitch/OlyOv6_combined_R1_fastq_FastQC_Report_1BBEE0AB.png\" alt=\"OlyOv6_combined_R1_fastq_FastQC_Report_1BBEE0AB.png\"/>"
   ]
  },
  {
   "cell_type": "markdown",
   "metadata": {},
   "source": [
    "Similar results for R2\n",
    "\n",
    "<img src=\"http://eagle.fish.washington.edu/cnidarian/skitch/OlyOv6_combined_R2_fastq_FastQC_Report_1BBEE46A.png\" alt=\"OlyOv6_combined_R2_fastq_FastQC_Report_1BBEE46A.png\"/>"
   ]
  },
  {
   "cell_type": "code",
   "execution_count": 5,
   "metadata": {
    "collapsed": false
   },
   "outputs": [
    {
     "data": {
      "text/plain": [
       "u'/Users/sr320/data-genomic/tentacle/OlyOv6'"
      ]
     },
     "execution_count": 5,
     "metadata": {},
     "output_type": "execute_result"
    }
   ],
   "source": [
    "pwd"
   ]
  },
  {
   "cell_type": "code",
   "execution_count": null,
   "metadata": {
    "collapsed": false
   },
   "outputs": [
    {
     "name": "stdout",
     "output_type": "stream",
     "text": [
      "No quality encoding type selected. Assuming that the data provided uses Sanger encoded Phred scores (default)\n",
      "\n",
      "Path to Cutadapt set as: '/Users/sr320/.local/bin/cutadapt' (user defined)\n",
      "1.8.1\n",
      "Cutadapt seems to be working fine (tested command '/Users/sr320/.local/bin/cutadapt --version')\n",
      "\n",
      "\n",
      "AUTO-DETECTING ADAPTER TYPE\n",
      "===========================\n",
      "Attempting to auto-detect adapter type from the first 1 million sequences of the first file (>> /Users/sr320/data-genomic/tentacle/OlyOv6/OlyOv6_combined_R1.fastq <<)\n",
      "\n",
      "Found perfect matches for the following adapter sequences:\n",
      "Adapter type\tCount\tSequence\tSequences analysed\tPercentage\n",
      "Illumina\t5712\tAGATCGGAAGAGC\t1000000\t0.57\n",
      "Nextera\t3\tCTGTCTCTTATA\t1000000\t0.00\n",
      "smallRNA\t1\tATGGAATTCTCG\t1000000\t0.00\n",
      "Using Illumina adapter for trimming (count: 5712). Second best hit was Nextera (count: 3)\n",
      "\n",
      "Writing report to 'OlyOv6_combined_R1.fastq_trimming_report.txt'\n",
      "\n",
      "SUMMARISING RUN PARAMETERS\n",
      "==========================\n",
      "Input filename: /Users/sr320/data-genomic/tentacle/OlyOv6/OlyOv6_combined_R1.fastq\n",
      "Trimming mode: paired-end\n",
      "Trim Galore version: 0.4.0\n",
      "Cutadapt version: 1.8.1\n",
      "Quality Phred score cutoff: 20\n",
      "Quality encoding type selected: ASCII+33\n",
      "Adapter sequence: 'AGATCGGAAGAGC' (Illumina TruSeq, Sanger iPCR; auto-detected)\n",
      "Maximum trimming error rate: 0.1 (default)\n",
      "Minimum required adapter overlap (stringency): 1 bp\n",
      "Minimum required sequence length for both reads before a sequence pair gets removed: 20 bp\n",
      "Length cut-off for read 1: 35 bp (default)\n",
      "Length cut-off for read 2: 35 bb (default)\n",
      "All Read 1 sequences will be trimmed by 14 bp from their 5' end to avoid poor qualities or biases\n",
      "All Read 2 sequences will be trimmed by 14 bp from their 5' end to avoid poor qualities or biases (e.g. M-bias for BS-Seq applications)\n",
      "\n",
      "Writing final adapter and quality trimmed output to OlyOv6_combined_R1_trimmed.fq\n",
      "\n",
      "\n",
      "  >>> Now performing quality (cutoff 20) and adapter trimming in a single pass for the adapter sequence: 'AGATCGGAAGAGC' from file /Users/sr320/data-genomic/tentacle/OlyOv6/OlyOv6_combined_R1.fastq <<< \n",
      "10000000 sequences processed\n",
      "20000000 sequences processed\n",
      "30000000 sequences processed\n",
      "40000000 sequences processed\n",
      "50000000 sequences processed\n",
      "60000000 sequences processed\n"
     ]
    }
   ],
   "source": [
    "!/Applications/bioinfo/trim_galore_zip/trim_galore \\\n",
    "--paired \\\n",
    "--clip_R1 14 \\\n",
    "--clip_R2 14 \\\n",
    "--retain_unpaired \\\n",
    "--path_to_cutadapt /Users/sr320/.local/bin/cutadapt \\\n",
    "/Users/sr320/data-genomic/tentacle/OlyOv6/OlyOv6_combined_R1.fastq \\\n",
    "/Users/sr320/data-genomic/tentacle/OlyOv6/OlyOv6_combined_R2.fastq"
   ]
  },
  {
   "cell_type": "code",
   "execution_count": null,
   "metadata": {
    "collapsed": true
   },
   "outputs": [],
   "source": []
  }
 ],
 "metadata": {
  "kernelspec": {
   "display_name": "Python 2",
   "language": "python",
   "name": "python2"
  },
  "language_info": {
   "codemirror_mode": {
    "name": "ipython",
    "version": 2
   },
   "file_extension": ".py",
   "mimetype": "text/x-python",
   "name": "python",
   "nbconvert_exporter": "python",
   "pygments_lexer": "ipython2",
   "version": "2.7.10"
  }
 },
 "nbformat": 4,
 "nbformat_minor": 0
}
