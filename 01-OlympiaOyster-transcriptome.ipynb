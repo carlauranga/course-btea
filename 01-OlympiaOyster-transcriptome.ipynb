{
 "cells": [
  {
   "cell_type": "markdown",
   "metadata": {},
   "source": [
    "#Olympia Oyster transcriptome"
   ]
  },
  {
   "cell_type": "markdown",
   "metadata": {},
   "source": [
    "See Geoduck page for details on how to download and check integretity of raw files.."
   ]
  },
  {
   "cell_type": "code",
   "execution_count": 1,
   "metadata": {
    "collapsed": false
   },
   "outputs": [
    {
     "name": "stdout",
     "output_type": "stream",
     "text": [
      "/Users/sr320/data-genomic/tentacle/OlyOv5\n"
     ]
    }
   ],
   "source": [
    "cd /Users/sr320/data-genomic/tentacle/OlyOv5"
   ]
  },
  {
   "cell_type": "code",
   "execution_count": 3,
   "metadata": {
    "collapsed": false
   },
   "outputs": [
    {
     "name": "stdout",
     "output_type": "stream",
     "text": [
      "/Users/sr320/data-genomic/tentacle/OlyOv5/PE\n"
     ]
    }
   ],
   "source": [
    "cd PE"
   ]
  },
  {
   "cell_type": "code",
   "execution_count": null,
   "metadata": {
    "collapsed": false
   },
   "outputs": [],
   "source": [
    "!cat \\\n",
    "filtered_106A_Female_Mix_GATCAG_L004_R1.fastq \\\n",
    "filtered_108A_Female_Mix_GGCTAC_L004_R1.fastq \\\n",
    "filtered_106A_Male_Mix_TAGCTT_L004_R1.fastq \\\n",
    "filtered_108A_Male_Mix_AGTCAA_L004_R1.fastq >> /Users/sr320/data-genomic/tentacle/OlyOv6/OlyOv6_combined_R1.fastq\n",
    "!cat \\\n",
    "filtered_106A_Female_Mix_GATCAG_L004_R2.fastq \\\n",
    "filtered_108A_Female_Mix_GGCTAC_L004_R2.fastq \\\n",
    "filtered_106A_Male_Mix_TAGCTT_L004_R2.fastq \\\n",
    "filtered_108A_Male_Mix_AGTCAA_L004_R2.fastq >> /Users/sr320/data-genomic/tentacle/OlyOv6/OlyOv6_combined_R2.fastq"
   ]
  },
  {
   "cell_type": "code",
   "execution_count": 1,
   "metadata": {
    "collapsed": false
   },
   "outputs": [
    {
     "name": "stdout",
     "output_type": "stream",
     "text": [
      "@HWI-ST700693:263:C0K6DACXX:4:1101:1464:1969\r\n",
      "NTTCATGAAGGGGTCAACCAGAATGATCTCGTAAAACTTGTAAGATGAATCCTGTGCCACCCAGTAAGAGCTTAGC\r\n",
      "+\r\n",
      "#4=DDDDDHFFHHGGABHIICBGH<E@FHIIGEGIIIIIIIDGGIIGEIIIIIIIIIIGIGGI9=D@CECEEF@CC\r\n",
      "@HWI-ST700693:263:C0K6DACXX:4:1101:1506:1985\r\n",
      "NCCTGATTGAAAACAAAATGTCTTTGTTTTTTCTACTTTGTATGGATCAATCAATCTTATTTGTTCCTGTAGAGAT\r\n",
      "+\r\n",
      "#1=DDFFFHHHHHJJJJJIGFHHJIIIIJJJJIIJIJJJJIJJFEGJIIIIHIGIJJEHIJJJGAGHJJIIIHGD;\r\n",
      "@HWI-ST700693:263:C0K6DACXX:4:1101:1882:1979\r\n",
      "NGGGACTCTAACGAGAACCTTCCGTCATCTGGCTCTGGACATAACCATGGTTAACAAGAACACTGTCATGGTGGAG\r\n"
     ]
    }
   ],
   "source": [
    "!head /Users/sr320/data-genomic/tentacle/OlyOv6/OlyOv6_combined_R1.fastq\n"
   ]
  },
  {
   "cell_type": "code",
   "execution_count": 3,
   "metadata": {
    "collapsed": false
   },
   "outputs": [
    {
     "name": "stdout",
     "output_type": "stream",
     "text": [
      "/Users/sr320/data-genomic/tentacle/OlyOv6\n"
     ]
    }
   ],
   "source": [
    "cd /Users/sr320/data-genomic/tentacle/OlyOv6"
   ]
  },
  {
   "cell_type": "code",
   "execution_count": 4,
   "metadata": {
    "collapsed": false
   },
   "outputs": [
    {
     "name": "stdout",
     "output_type": "stream",
     "text": [
      "Started analysis of OlyOv6_combined_R1.fastq\n",
      "Approx 5% complete for OlyOv6_combined_R1.fastq\n",
      "Approx 10% complete for OlyOv6_combined_R1.fastq\n",
      "Approx 15% complete for OlyOv6_combined_R1.fastq\n",
      "Approx 20% complete for OlyOv6_combined_R1.fastq\n",
      "Approx 25% complete for OlyOv6_combined_R1.fastq\n",
      "Approx 30% complete for OlyOv6_combined_R1.fastq\n",
      "Approx 35% complete for OlyOv6_combined_R1.fastq\n",
      "Approx 40% complete for OlyOv6_combined_R1.fastq\n",
      "Approx 45% complete for OlyOv6_combined_R1.fastq\n",
      "Approx 50% complete for OlyOv6_combined_R1.fastq\n",
      "Approx 55% complete for OlyOv6_combined_R1.fastq\n",
      "Approx 60% complete for OlyOv6_combined_R1.fastq\n",
      "Approx 65% complete for OlyOv6_combined_R1.fastq\n",
      "Approx 70% complete for OlyOv6_combined_R1.fastq\n",
      "Approx 75% complete for OlyOv6_combined_R1.fastq\n",
      "Approx 80% complete for OlyOv6_combined_R1.fastq\n",
      "Approx 85% complete for OlyOv6_combined_R1.fastq\n",
      "Approx 90% complete for OlyOv6_combined_R1.fastq\n",
      "Approx 95% complete for OlyOv6_combined_R1.fastq\n",
      "Analysis complete for OlyOv6_combined_R1.fastq\n",
      "Started analysis of OlyOv6_combined_R2.fastq\n",
      "Approx 5% complete for OlyOv6_combined_R2.fastq\n",
      "Approx 10% complete for OlyOv6_combined_R2.fastq\n",
      "Approx 15% complete for OlyOv6_combined_R2.fastq\n",
      "Approx 20% complete for OlyOv6_combined_R2.fastq\n",
      "Approx 25% complete for OlyOv6_combined_R2.fastq\n",
      "Approx 30% complete for OlyOv6_combined_R2.fastq\n",
      "Approx 35% complete for OlyOv6_combined_R2.fastq\n",
      "Approx 40% complete for OlyOv6_combined_R2.fastq\n",
      "Approx 45% complete for OlyOv6_combined_R2.fastq\n",
      "Approx 50% complete for OlyOv6_combined_R2.fastq\n",
      "Approx 55% complete for OlyOv6_combined_R2.fastq\n",
      "Approx 60% complete for OlyOv6_combined_R2.fastq\n",
      "Approx 65% complete for OlyOv6_combined_R2.fastq\n",
      "Approx 70% complete for OlyOv6_combined_R2.fastq\n",
      "Approx 75% complete for OlyOv6_combined_R2.fastq\n",
      "Approx 80% complete for OlyOv6_combined_R2.fastq\n",
      "Approx 85% complete for OlyOv6_combined_R2.fastq\n",
      "Approx 90% complete for OlyOv6_combined_R2.fastq\n",
      "Approx 95% complete for OlyOv6_combined_R2.fastq\n",
      "Analysis complete for OlyOv6_combined_R2.fastq\n"
     ]
    }
   ],
   "source": [
    "!/Applications/bioinfo/FastQC/fastqc \\\n",
    "/Users/sr320/data-genomic/tentacle/OlyOv6/OlyOv6_combined_R1.fastq \\\n",
    "/Users/sr320/data-genomic/tentacle/OlyOv6/OlyOv6_combined_R2.fastq"
   ]
  },
  {
   "cell_type": "markdown",
   "metadata": {},
   "source": [
    "These files are created locally\n",
    "\n",
    "<img src=\"http://eagle.fish.washington.edu/cnidarian/skitch/OlyOv6_1BBEE01A.png\" alt=\"OlyOv6_1BBEE01A.png\"/>"
   ]
  },
  {
   "cell_type": "markdown",
   "metadata": {},
   "source": [
    "<img src=\"http://eagle.fish.washington.edu/cnidarian/skitch/OlyOv6_combined_R1_fastq_FastQC_Report_1BBEE058.png\" alt=\"OlyOv6_combined_R1_fastq_FastQC_Report_1BBEE058.png\"/>"
   ]
  },
  {
   "cell_type": "markdown",
   "metadata": {},
   "source": [
    "<img src=\"http://eagle.fish.washington.edu/cnidarian/skitch/OlyOv6_combined_R1_fastq_FastQC_Report_1BBEE088.png\" alt=\"OlyOv6_combined_R1_fastq_FastQC_Report_1BBEE088.png\"/>"
   ]
  },
  {
   "cell_type": "markdown",
   "metadata": {},
   "source": [
    "<img src=\"http://eagle.fish.washington.edu/cnidarian/skitch/OlyOv6_combined_R1_fastq_FastQC_Report_1BBEE0AB.png\" alt=\"OlyOv6_combined_R1_fastq_FastQC_Report_1BBEE0AB.png\"/>"
   ]
  },
  {
   "cell_type": "code",
   "execution_count": null,
   "metadata": {
    "collapsed": true
   },
   "outputs": [],
   "source": [
    "!/Applications/bioinfo/trim_galore_zip/trim_galore \\\n",
    "--paired \\\n",
    "--clip_R1 14 \\\n",
    "--clip_R2 14 \\\n",
    "--retain_unpaired \\\n",
    "--path_to_cutadapt /Users/sr320/.local/bin/cutadapt \\\n",
    "/Users/sr320/data-genomic/tentacle/OlyOv6/OlyOv6_combined_R1.fastq \\\n",
    "/Users/sr320/data-genomic/tentacle/OlyOv6/OlyOv6_combined_R2.fastq"
   ]
  }
 ],
 "metadata": {
  "kernelspec": {
   "display_name": "Python 2",
   "language": "python",
   "name": "python2"
  },
  "language_info": {
   "codemirror_mode": {
    "name": "ipython",
    "version": 2
   },
   "file_extension": ".py",
   "mimetype": "text/x-python",
   "name": "python",
   "nbconvert_exporter": "python",
   "pygments_lexer": "ipython2",
   "version": "2.7.10"
  }
 },
 "nbformat": 4,
 "nbformat_minor": 0
}
